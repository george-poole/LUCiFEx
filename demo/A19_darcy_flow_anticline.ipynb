{
 "cells": [
  {
   "cell_type": "code",
   "execution_count": null,
   "id": "0028fe4c",
   "metadata": {},
   "outputs": [],
   "source": [
    "import gmsh\n",
    "from dolfinx.mesh import Mesh\n",
    "\n",
    "def anticline_mesh(\n",
    ") -> Mesh:\n",
    "    ..."
   ]
  }
 ],
 "metadata": {
  "language_info": {
   "name": "python"
  }
 },
 "nbformat": 4,
 "nbformat_minor": 5
}
