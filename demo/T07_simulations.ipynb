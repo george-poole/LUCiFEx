{
 "cells": [
  {
   "cell_type": "markdown",
   "id": "249e70f4",
   "metadata": {},
   "source": [
    "# Simulations"
   ]
  },
  {
   "cell_type": "code",
   "execution_count": null,
   "id": "48336e78",
   "metadata": {
    "vscode": {
     "languageId": "plaintext"
    }
   },
   "outputs": [],
   "source": [
    "from lucifex.sim import (\n",
    "    integrate, configure_simulation, Simulation, \n",
    ")"
   ]
  },
  {
   "cell_type": "markdown",
   "id": "0d7ed1b1",
   "metadata": {},
   "source": [
    "## Configuring simulations"
   ]
  },
  {
   "cell_type": "markdown",
   "id": "8e57d75b",
   "metadata": {},
   "source": [
    "## Command line interface"
   ]
  }
 ],
 "metadata": {
  "language_info": {
   "name": "python"
  }
 },
 "nbformat": 4,
 "nbformat_minor": 5
}
