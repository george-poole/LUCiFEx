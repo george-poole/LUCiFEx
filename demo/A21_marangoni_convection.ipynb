{
 "cells": [
  {
   "cell_type": "markdown",
   "id": "d569529a",
   "metadata": {},
   "source": [
    "# Marangoni convection"
   ]
  },
  {
   "cell_type": "markdown",
   "id": "ccb24ce9",
   "metadata": {},
   "source": [
    "initial value problem on $(\\textbf{x}, t)\\in\\Omega\\times[0,\\infty)$\n",
    "\n",
    "$$\\frac{1}{Pr}\\left(\\frac{\\partial\\textbf{u}}{\\partial t}+\\textbf{u}\\cdot\\nabla\\textbf{u}\\right)=-\\nabla p + \\nabla^2\\textbf{u} + \\rho(c)\\,\\textbf{e}_g$$\n",
    "\n",
    "$$\\frac{\\partial c}{\\partial t} + \\textbf{u}\\cdot\\nabla c = \\nabla^2 c$$\n",
    "\n",
    "constitutive relations\n",
    "\n",
    "$$\\varepsilon(\\textbf{u})=\\tfrac{1}{2}(\\nabla\\textbf{u} + (\\nabla\\textbf{u})^{\\mathsf{T}})$$\n",
    "\n",
    "$$\\sigma(\\textbf{u}, p) = -p\\,\\mathsf{I} + 2\\mu\\varepsilon(\\textbf{u})$$\n",
    "\n",
    "$$\\implies \\nabla\\cdot\\sigma=-\\nabla p + \\mu\\nabla^2\\textbf{u}$$\n",
    "\n",
    "$$\\rho(c)=-Ra\\,c$$\n",
    "\n",
    "$$\\gamma(c) = \\gamma_0 - Ma\\,c$$\n",
    "\n",
    "initial conditions\n",
    "\n",
    "$$\\textbf{u}(\\textbf{x},t=0)=\\textbf{u}_0(\\textbf{x})$$\n",
    "\n",
    "$$p(\\textbf{x},t=0)=p_0(\\textbf{x})$$\n",
    "\n",
    "Dirichlet boundary condition on $\\textbf{x}\\in\\partial\\Omega_{\\text{D},c}$\n",
    "\n",
    "$$c = c_{\\text{D}}$$\n",
    "\n",
    "Neumann boundary condition on $\\textbf{x}\\in\\partial\\Omega_{\\text{N},c}=\\partial\\Omega/\\partial\\Omega_{\\text{D},c}$\n",
    "\n",
    "$$\\textbf{n}\\cdot\\nabla c = c_{\\text{N}}$$\n",
    "\n",
    "essential boundary condition on $\\textbf{x}\\in\\partial\\Omega_E$\n",
    "\n",
    "$$\\textbf{u} = \\textbf{u}_{\\text{E}}$$\n",
    "\n",
    "natural boundary condition on $\\textbf{x}\\in\\partial\\Omega_{\\text{N}}=\\partial\\Omega/\\partial\\Omega_{\\text{E}}$\n",
    "\n",
    "$$\\sigma\\cdot\\textbf{n} = \\left(\\textbf{t}\\cdot\\nabla\\gamma\\right)\\textbf{t} + \\left(-p_{\\text{ext}} + (\\nabla\\cdot\\textbf{n})\\gamma\\right)\\textbf{n}$$"
   ]
  },
  {
   "cell_type": "markdown",
   "id": "b0dfdab1",
   "metadata": {},
   "source": [
    "## Example: $d=2$ rectangle\n",
    "\n",
    "\n",
    "$$\\Omega = [0, L_x] \\times [0, L_y]$$\n",
    "\n",
    "$$\\textbf{u}(x=0, y)=\\textbf{u}(x=L_x, y)=\\textbf{u}(x, y=0)=\\textbf{0}$$\n",
    "\n",
    "$$\\sigma\\cdot\\textbf{n}\\vert_{x,y=L_y} = \\frac{\\partial\\gamma}{\\partial x}\\textbf{e}_x -p_{\\text{ext}}\\textbf{e}_y = -Ma\\frac{\\partial c}{\\partial x}\\,\\textbf{e}_x -p_{\\text{ext}}\\textbf{e}_y$$\n",
    "\n",
    "$$c_0(x,y)=\\text{exp}\\left(-\\frac{y}{\\epsilon L_y}\\right) + \\mathcal{N}(x,y)$$\n",
    "\n",
    "$$c(x,y=0)=1$$\n",
    "\n",
    "$$\\frac{\\partial c}{\\partial x}\\bigg\\vert_{x,L_y}=\\frac{\\partial c}{\\partial x}\\bigg\\vert_{x=0,y}=\\frac{\\partial c}{\\partial x}\\bigg\\vert_{x=L_x,y}=0$$\n",
    "\n",
    "$$\\textbf{e}_g=-\\textbf{e}_y$$"
   ]
  },
  {
   "cell_type": "code",
   "execution_count": 1,
   "id": "9b363d41",
   "metadata": {},
   "outputs": [],
   "source": [
    "import numpy as np\n",
    "from lucifex.sim import integrate\n",
    "from lucifex.viz import plot_colormap\n",
    "from lucifex.io import write\n",
    "from lucifex.utils import maximum\n",
    "\n",
    "from py.marangoni_convection import navier_stokes_marangoni\n",
    "\n",
    "\n",
    "Ra = 1e4\n",
    "Pr = 1e1\n",
    "Ma = -1e1\n",
    "simulation = navier_stokes_marangoni(\n",
    "    Lx=2.0,\n",
    "    Ly=1.0,    \n",
    "    Nx=64,\n",
    "    Ny=64,\n",
    "    cell='quadrilateral',\n",
    "    Ra=Ra,\n",
    "    Pr=Pr,\n",
    "    Ma=Ma,\n",
    "    dt_max=0.01, \n",
    ")\n",
    "\n",
    "n_stop = 50\n",
    "dt_init = 1e-6\n",
    "n_init = 10\n",
    "integrate(simulation, n_stop=n_stop, dt_init=dt_init, n_init=n_init)"
   ]
  },
  {
   "cell_type": "code",
   "execution_count": 2,
   "id": "ad8d0177",
   "metadata": {},
   "outputs": [
    {
     "data": {
      "image/png": "[encoded data removed]",
      "text/plain": [
       "<Figure size 640x480 with 2 Axes>"
      ]
     },
     "metadata": {},
     "output_type": "display_data"
    }
   ],
   "source": [
    "c = simulation['c']\n",
    "\n",
    "time_index = -1\n",
    "fig, ax = plot_colormap(c.series[time_index], title=f'$c(t={c.time_series[time_index]:.2e})$')\n",
    "# write(fig, f'A21_marangoni_convection', './figures', close=False, pickle=False)"
   ]
  }
 ],
 "metadata": {
  "kernelspec": {
   "display_name": "lucifex",
   "language": "python",
   "name": "python3"
  },
  "language_info": {
   "codemirror_mode": {
    "name": "ipython",
    "version": 3
   },
   "file_extension": ".py",
   "mimetype": "text/x-python",
   "name": "python",
   "nbconvert_exporter": "python",
   "pygments_lexer": "ipython3",
   "version": "3.10.12"
  }
 },
 "nbformat": 4,
 "nbformat_minor": 5
}
