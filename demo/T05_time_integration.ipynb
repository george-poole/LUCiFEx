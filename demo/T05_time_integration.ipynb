{
 "cells": [
  {
   "cell_type": "markdown",
   "id": "e2a1a383",
   "metadata": {},
   "source": [
    "# Time integration"
   ]
  },
  {
   "cell_type": "code",
   "execution_count": 1,
   "id": "c1227189",
   "metadata": {},
   "outputs": [
    {
     "name": "stdout",
     "output_type": "stream",
     "text": [
      "30\n"
     ]
    }
   ],
   "source": [
    "from lucifex.fdm import CN\n",
    "from lucifex.fem import LUCiFExConstant as Constant\n",
    "from lucifex.sim import (\n",
    "    integrate, simulation_stopper, simulation_writer, \n",
    ")\n",
    "from lucifex.viz import plot_line\n",
    "from py.diffusion import diffusion_simulation_1d\n",
    "\n",
    "\n",
    "simulation = diffusion_simulation_1d(store_step=1)(\n",
    "    Lx=1.0,\n",
    "    Nx=200,\n",
    "    dt=0.123,\n",
    "    m_exponent=2,\n",
    "    D_fdm=CN,\n",
    ")\n",
    "\n",
    "n_stop = 30\n",
    "integrate(simulation, n_stop=n_stop)\n",
    "u = simulation['u']\n",
    "\n",
    "print(len(u.series))"
   ]
  },
  {
   "cell_type": "markdown",
   "id": "9b8d3cbb",
   "metadata": {},
   "source": [
    "## Stopping criteria"
   ]
  },
  {
   "cell_type": "code",
   "execution_count": null,
   "id": "63574b4b",
   "metadata": {},
   "outputs": [],
   "source": [
    "def is_less_than(\n",
    "    u: Constant,\n",
    "    u_thresh: float,\n",
    ") -> bool:\n",
    "    return u.value < u_thresh\n",
    "\n",
    "simulation = diffusion_simulation_1d(store_step=1)(\n",
    "    Lx=1.0,\n",
    "    Nx=200,\n",
    "    dt=0.001,\n",
    "    m_exponent=2,\n",
    "    D_fdm=CN,\n",
    ")\n",
    "uMax = simulation['uMax']\n",
    "\n",
    "uMax_thresh = 0.5\n",
    "stopper = simulation_stopper(uMax[-1], is_less_than)(uMax_thresh)\n",
    "\n",
    "n_stop = 500\n",
    "integrate(simulation, n_stop=n_stop, stoppers=[stopper])"
   ]
  },
  {
   "cell_type": "code",
   "execution_count": null,
   "id": "1708e604",
   "metadata": {},
   "outputs": [],
   "source": [
    "plot_line((uMax.time_series, uMax.value_series))"
   ]
  },
  {
   "cell_type": "markdown",
   "id": "4aba2c86",
   "metadata": {},
   "source": [
    "## Writing criteria"
   ]
  },
  {
   "cell_type": "code",
   "execution_count": 9,
   "id": "dec9f2bf",
   "metadata": {},
   "outputs": [
    {
     "name": "stdout",
     "output_type": "stream",
     "text": [
      "Every 10 steps: uMax=1.0 when t=0.0\n",
      "Every 0.04 time units: uMax=1.0 when t=0.0\n",
      "Is in range: uMax=0.7426085866573291 when t=0.003\n",
      "Is in range: uMax=0.6721698675527306 when t=0.004\n",
      "Is in range: uMax=0.6186676969163538 when t=0.005\n",
      "Every 10 steps: uMax=0.4468124513366197 when t=0.010000000000000002\n",
      "Every 10 steps: uMax=0.3332107831894998 when t=0.02000000000000001\n",
      "Every 10 steps: uMax=0.2770456194669906 when t=0.03000000000000002\n",
      "Every 10 steps: uMax=0.2411556308719679 when t=0.04000000000000003\n",
      "Every 0.04 time units: uMax=0.2411556308719679 when t=0.04000000000000003\n",
      "Every 10 steps: uMax=0.21447111437714894 when t=0.05000000000000004\n",
      "Every 10 steps: uMax=0.19266436221981578 when t=0.060000000000000046\n",
      "Every 10 steps: uMax=0.17387894340641383 when t=0.07000000000000005\n",
      "Every 10 steps: uMax=0.1572583538120769 when t=0.08000000000000006\n",
      "Every 0.04 time units: uMax=0.1572583538120769 when t=0.08000000000000006\n",
      "Every 10 steps: uMax=0.14236395888338144 when t=0.09000000000000007\n"
     ]
    }
   ],
   "source": [
    "def is_in_range(\n",
    "    u: Constant,\n",
    "    u_low: float,\n",
    "    u_high: float,\n",
    ") -> bool:\n",
    "    return u.value < u_high and u.value > u_low\n",
    "\n",
    "\n",
    "simulation = diffusion_simulation_1d(store_step=1)(\n",
    "    Lx=1.0,\n",
    "    Nx=200,\n",
    "    dt=0.001,\n",
    "    m_exponent=2,\n",
    "    D_fdm=CN,\n",
    ")\n",
    "uMax = simulation['uMax']\n",
    "\n",
    "u_high = 0.8\n",
    "u_low = 0.6\n",
    "routine = lambda t, u: print(f'Is in range: uMax={float(u)} when t={t}')\n",
    "writer_func = simulation_writer(uMax[-1], is_in_range, routine)(u_low, u_high)\n",
    "\n",
    "n_step = 10\n",
    "routine = lambda t, u: print(f'Every {n_step} steps: uMax={float(u)} when t={t}')\n",
    "writer_int = simulation_writer(uMax[0], n_step, routine)\n",
    "\n",
    "dt_step = 0.04\n",
    "routine = lambda t, u: print(f'Every {dt_step} time units: uMax={float(u)} when t={t}')\n",
    "writer_float = simulation_writer(uMax[0], dt_step, routine)\n",
    "\n",
    "n_stop = 100\n",
    "integrate(simulation, n_stop=n_stop, writers=[writer_func, writer_int, writer_float])\n"
   ]
  }
 ],
 "metadata": {
  "kernelspec": {
   "display_name": "lucifex",
   "language": "python",
   "name": "python3"
  },
  "language_info": {
   "codemirror_mode": {
    "name": "ipython",
    "version": 3
   },
   "file_extension": ".py",
   "mimetype": "text/x-python",
   "name": "python",
   "nbconvert_exporter": "python",
   "pygments_lexer": "ipython3",
   "version": "3.10.12"
  }
 },
 "nbformat": 4,
 "nbformat_minor": 5
}
