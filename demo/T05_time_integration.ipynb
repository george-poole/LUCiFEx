{
 "cells": [
  {
   "cell_type": "markdown",
   "id": "e2a1a383",
   "metadata": {},
   "source": [
    "# Time integration"
   ]
  },
  {
   "cell_type": "code",
   "execution_count": null,
   "id": "c1227189",
   "metadata": {},
   "outputs": [
    {
     "name": "stdout",
     "output_type": "stream",
     "text": [
      "30\n"
     ]
    }
   ],
   "source": [
    "from lucifex.fdm import CN\n",
    "from lucifex.fem import LUCiFExConstant as Constant\n",
    "from lucifex.sim import (\n",
    "    integrate, create_stopper, create_writer, \n",
    ")\n",
    "from lucifex.viz import plot_line\n",
    "from py.diffusion import diffusion_simulation_interval\n",
    "\n",
    "\n",
    "simulation = diffusion_simulation_interval(store_step=1)(\n",
    "    Lx=1.0,\n",
    "    Nx=200,\n",
    "    dt=0.123,\n",
    "    m_exponent=2,\n",
    "    D_fdm=CN,\n",
    ")\n",
    "\n",
    "n_stop = 30\n",
    "integrate(simulation, n_stop=n_stop)\n",
    "u = simulation['u']\n",
    "\n",
    "print(len(u.series))"
   ]
  },
  {
   "cell_type": "code",
   "execution_count": 5,
   "id": "dec9f2bf",
   "metadata": {},
   "outputs": [
    {
     "ename": "TypeError",
     "evalue": "is_in_interval() missing 3 required positional arguments: 'u', 'u_low', and 'u_high'",
     "output_type": "error",
     "traceback": [
      "\u001b[0;31m---------------------------------------------------------------------------\u001b[0m",
      "\u001b[0;31mTypeError\u001b[0m                                 Traceback (most recent call last)",
      "Cell \u001b[0;32mIn[5], line 24\u001b[0m\n\u001b[1;32m     21\u001b[0m writer \u001b[38;5;241m=\u001b[39m create_writer(uMax[\u001b[38;5;241m-\u001b[39m\u001b[38;5;241m1\u001b[39m], is_in_interval, routine\u001b[38;5;241m=\u001b[39mroutine)(u_low, u_high)\n\u001b[1;32m     23\u001b[0m n_stop \u001b[38;5;241m=\u001b[39m \u001b[38;5;241m100\u001b[39m\n\u001b[0;32m---> 24\u001b[0m \u001b[43mintegrate\u001b[49m\u001b[43m(\u001b[49m\u001b[43msimulation\u001b[49m\u001b[43m,\u001b[49m\u001b[43m \u001b[49m\u001b[43mn_stop\u001b[49m\u001b[38;5;241;43m=\u001b[39;49m\u001b[43mn_stop\u001b[49m\u001b[43m,\u001b[49m\u001b[43m \u001b[49m\u001b[43mwriters\u001b[49m\u001b[38;5;241;43m=\u001b[39;49m\u001b[43m[\u001b[49m\u001b[43mwriter\u001b[49m\u001b[43m]\u001b[49m\u001b[43m)\u001b[49m\n",
      "File \u001b[0;32m~/Desktop/LUCiFEx/lucifex/sim/integrate.py:118\u001b[0m, in \u001b[0;36mintegrate\u001b[0;34m(simulation, n_stop, t_stop, dt_init, n_init, resume, overwrite, texec, stoppers, writers)\u001b[0m\n\u001b[1;32m    116\u001b[0m [s\u001b[38;5;241m.\u001b[39msolve() \u001b[38;5;28;01mfor\u001b[39;00m s \u001b[38;5;129;01min\u001b[39;00m _solvers]\n\u001b[1;32m    117\u001b[0m t\u001b[38;5;241m.\u001b[39mupdate(t[\u001b[38;5;241m0\u001b[39m]\u001b[38;5;241m.\u001b[39mvalue \u001b[38;5;241m+\u001b[39m _dt\u001b[38;5;241m.\u001b[39mvalue, future\u001b[38;5;241m=\u001b[39m\u001b[38;5;28;01mTrue\u001b[39;00m)\n\u001b[0;32m--> 118\u001b[0m [w\u001b[38;5;241m.\u001b[39mwrite(t[\u001b[38;5;241m0\u001b[39m]) \u001b[38;5;28;01mfor\u001b[39;00m w \u001b[38;5;129;01min\u001b[39;00m _writers]\n\u001b[1;32m    119\u001b[0m \u001b[38;5;28;01mif\u001b[39;00m \u001b[38;5;28many\u001b[39m(s\u001b[38;5;241m.\u001b[39mstop(t[\u001b[38;5;241m0\u001b[39m]) \u001b[38;5;28;01mfor\u001b[39;00m s \u001b[38;5;129;01min\u001b[39;00m _stoppers):\n\u001b[1;32m    120\u001b[0m     \u001b[38;5;28;01mbreak\u001b[39;00m\n",
      "File \u001b[0;32m~/Desktop/LUCiFEx/lucifex/sim/integrate.py:118\u001b[0m, in \u001b[0;36m<listcomp>\u001b[0;34m(.0)\u001b[0m\n\u001b[1;32m    116\u001b[0m [s\u001b[38;5;241m.\u001b[39msolve() \u001b[38;5;28;01mfor\u001b[39;00m s \u001b[38;5;129;01min\u001b[39;00m _solvers]\n\u001b[1;32m    117\u001b[0m t\u001b[38;5;241m.\u001b[39mupdate(t[\u001b[38;5;241m0\u001b[39m]\u001b[38;5;241m.\u001b[39mvalue \u001b[38;5;241m+\u001b[39m _dt\u001b[38;5;241m.\u001b[39mvalue, future\u001b[38;5;241m=\u001b[39m\u001b[38;5;28;01mTrue\u001b[39;00m)\n\u001b[0;32m--> 118\u001b[0m [\u001b[43mw\u001b[49m\u001b[38;5;241;43m.\u001b[39;49m\u001b[43mwrite\u001b[49m\u001b[43m(\u001b[49m\u001b[43mt\u001b[49m\u001b[43m[\u001b[49m\u001b[38;5;241;43m0\u001b[39;49m\u001b[43m]\u001b[49m\u001b[43m)\u001b[49m \u001b[38;5;28;01mfor\u001b[39;00m w \u001b[38;5;129;01min\u001b[39;00m _writers]\n\u001b[1;32m    119\u001b[0m \u001b[38;5;28;01mif\u001b[39;00m \u001b[38;5;28many\u001b[39m(s\u001b[38;5;241m.\u001b[39mstop(t[\u001b[38;5;241m0\u001b[39m]) \u001b[38;5;28;01mfor\u001b[39;00m s \u001b[38;5;129;01min\u001b[39;00m _stoppers):\n\u001b[1;32m    120\u001b[0m     \u001b[38;5;28;01mbreak\u001b[39;00m\n",
      "File \u001b[0;32m~/Desktop/LUCiFEx/lucifex/utils/deferred.py:156\u001b[0m, in \u001b[0;36mWriter.write\u001b[0;34m(self, t)\u001b[0m\n\u001b[1;32m    154\u001b[0m \u001b[38;5;28;01mdef\u001b[39;00m\u001b[38;5;250m \u001b[39m\u001b[38;5;21mwrite\u001b[39m(\u001b[38;5;28mself\u001b[39m, t: \u001b[38;5;28mfloat\u001b[39m \u001b[38;5;241m|\u001b[39m Constant \u001b[38;5;241m|\u001b[39m np\u001b[38;5;241m.\u001b[39mndarray) \u001b[38;5;241m-\u001b[39m\u001b[38;5;241m>\u001b[39m \u001b[38;5;28;01mNone\u001b[39;00m:\n\u001b[1;32m    155\u001b[0m     t \u001b[38;5;241m=\u001b[39m \u001b[38;5;28mfloat\u001b[39m(t)\n\u001b[0;32m--> 156\u001b[0m     \u001b[38;5;28;43mself\u001b[39;49m\u001b[38;5;241;43m.\u001b[39;49m\u001b[43mexecute\u001b[49m\u001b[43m(\u001b[49m\u001b[43mt\u001b[49m\u001b[43m)\u001b[49m\u001b[43m(\u001b[49m\u001b[43mt\u001b[49m\u001b[43m)\u001b[49m\n",
      "File \u001b[0;32m~/Desktop/LUCiFEx/lucifex/utils/deferred.py:69\u001b[0m, in \u001b[0;36mDeferredRoutine.execute.<locals>.<lambda>\u001b[0;34m(*a, **k)\u001b[0m\n\u001b[1;32m     64\u001b[0m \u001b[38;5;28;01mdef\u001b[39;00m\u001b[38;5;250m \u001b[39m\u001b[38;5;21mexecute\u001b[39m(\n\u001b[1;32m     65\u001b[0m     \u001b[38;5;28mself\u001b[39m, \n\u001b[1;32m     66\u001b[0m     \u001b[38;5;241m*\u001b[39margs: Q\u001b[38;5;241m.\u001b[39margs, \n\u001b[1;32m     67\u001b[0m     \u001b[38;5;241m*\u001b[39m\u001b[38;5;241m*\u001b[39mkwargs: Q\u001b[38;5;241m.\u001b[39mkwargs,\n\u001b[1;32m     68\u001b[0m ) \u001b[38;5;241m-\u001b[39m\u001b[38;5;241m>\u001b[39m Callable[P, \u001b[38;5;28;01mNone\u001b[39;00m]:\n\u001b[0;32m---> 69\u001b[0m     \u001b[38;5;28;01mreturn\u001b[39;00m  \u001b[38;5;28;01mlambda\u001b[39;00m \u001b[38;5;241m*\u001b[39ma, \u001b[38;5;241m*\u001b[39m\u001b[38;5;241m*\u001b[39mk: \u001b[38;5;28mself\u001b[39m\u001b[38;5;241m.\u001b[39m_routine(\u001b[38;5;241m*\u001b[39margs, \u001b[38;5;241m*\u001b[39m\u001b[38;5;241m*\u001b[39mkwargs) \u001b[38;5;28;01mif\u001b[39;00m \u001b[38;5;28;43mself\u001b[39;49m\u001b[38;5;241;43m.\u001b[39;49m\u001b[43mevaluate\u001b[49m\u001b[43m(\u001b[49m\u001b[38;5;241;43m*\u001b[39;49m\u001b[43ma\u001b[49m\u001b[43m,\u001b[49m\u001b[43m \u001b[49m\u001b[38;5;241;43m*\u001b[39;49m\u001b[38;5;241;43m*\u001b[39;49m\u001b[43mk\u001b[49m\u001b[43m)\u001b[49m \u001b[38;5;28;01melse\u001b[39;00m \u001b[38;5;28;01mNone\u001b[39;00m\n",
      "File \u001b[0;32m~/Desktop/LUCiFEx/lucifex/utils/deferred.py:34\u001b[0m, in \u001b[0;36mDeferredCondition.evaluate\u001b[0;34m(self, *args, **kwargs)\u001b[0m\n\u001b[1;32m     33\u001b[0m \u001b[38;5;28;01mdef\u001b[39;00m\u001b[38;5;250m \u001b[39m\u001b[38;5;21mevaluate\u001b[39m(\u001b[38;5;28mself\u001b[39m, \u001b[38;5;241m*\u001b[39margs: P\u001b[38;5;241m.\u001b[39margs, \u001b[38;5;241m*\u001b[39m\u001b[38;5;241m*\u001b[39mkwargs: P\u001b[38;5;241m.\u001b[39mkwargs) \u001b[38;5;241m-\u001b[39m\u001b[38;5;241m>\u001b[39m \u001b[38;5;28mbool\u001b[39m:\n\u001b[0;32m---> 34\u001b[0m     \u001b[38;5;28;01mreturn\u001b[39;00m \u001b[38;5;28;43mself\u001b[39;49m\u001b[38;5;241;43m.\u001b[39;49m\u001b[43m_condition\u001b[49m\u001b[43m(\u001b[49m\u001b[38;5;241;43m*\u001b[39;49m\u001b[43margs\u001b[49m\u001b[43m,\u001b[49m\u001b[43m \u001b[49m\u001b[38;5;241;43m*\u001b[39;49m\u001b[38;5;241;43m*\u001b[39;49m\u001b[43mkwargs\u001b[49m\u001b[43m)\u001b[49m\n",
      "File \u001b[0;32m~/Desktop/LUCiFEx/lucifex/utils/deferred.py:77\u001b[0m, in \u001b[0;36minject_time_arg.<locals>.<lambda>\u001b[0;34m(_)\u001b[0m\n\u001b[1;32m     75\u001b[0m n_args \u001b[38;5;241m=\u001b[39m \u001b[38;5;28mlen\u001b[39m(signature(condition)\u001b[38;5;241m.\u001b[39mparameters)\n\u001b[1;32m     76\u001b[0m \u001b[38;5;28;01mif\u001b[39;00m n_args \u001b[38;5;241m==\u001b[39m \u001b[38;5;241m0\u001b[39m:\n\u001b[0;32m---> 77\u001b[0m     \u001b[38;5;28;01mreturn\u001b[39;00m \u001b[38;5;28;01mlambda\u001b[39;00m _: \u001b[43mcondition\u001b[49m\u001b[43m(\u001b[49m\u001b[43m)\u001b[49m\n\u001b[1;32m     78\u001b[0m \u001b[38;5;28;01melse\u001b[39;00m:\n\u001b[1;32m     79\u001b[0m     \u001b[38;5;28;01mif\u001b[39;00m \u001b[38;5;129;01mnot\u001b[39;00m n_args \u001b[38;5;241m==\u001b[39m \u001b[38;5;241m1\u001b[39m:\n",
      "File \u001b[0;32m~/Desktop/LUCiFEx/lucifex/sim/deferred.py:143\u001b[0m, in \u001b[0;36mcreate_writer.<locals>._inner.<locals>.<lambda>\u001b[0;34m()\u001b[0m\n\u001b[1;32m    141\u001b[0m \u001b[38;5;28;01melse\u001b[39;00m:\n\u001b[1;32m    142\u001b[0m     \u001b[38;5;28;01mif\u001b[39;00m condition \u001b[38;5;129;01mis\u001b[39;00m \u001b[38;5;129;01mnot\u001b[39;00m \u001b[38;5;28;01mNone\u001b[39;00m:\n\u001b[0;32m--> 143\u001b[0m         _condition \u001b[38;5;241m=\u001b[39m \u001b[38;5;28;01mlambda\u001b[39;00m: \u001b[43mcondition\u001b[49m\u001b[43m(\u001b[49m\u001b[38;5;241;43m*\u001b[39;49m\u001b[43margs\u001b[49m\u001b[43m,\u001b[49m\u001b[43m \u001b[49m\u001b[38;5;241;43m*\u001b[39;49m\u001b[38;5;241;43m*\u001b[39;49m\u001b[43mkwargs\u001b[49m\u001b[43m)\u001b[49m\n\u001b[1;32m    144\u001b[0m     \u001b[38;5;28;01melse\u001b[39;00m:\n\u001b[1;32m    145\u001b[0m         _condition \u001b[38;5;241m=\u001b[39m condition\n",
      "\u001b[0;31mTypeError\u001b[0m: is_in_interval() missing 3 required positional arguments: 'u', 'u_low', and 'u_high'"
     ]
    }
   ],
   "source": [
    "def is_in_interval(\n",
    "    u: Constant,\n",
    "    u_low: float,\n",
    "    u_high: float,\n",
    ") -> bool:\n",
    "    return u.value < u_high and u.value > u_low\n",
    "\n",
    "\n",
    "simulation = diffusion_simulation_interval(store_step=1)(\n",
    "    Lx=1.0,\n",
    "    Nx=200,\n",
    "    dt=0.001,\n",
    "    m_exponent=2,\n",
    "    D_fdm=CN,\n",
    ")\n",
    "uMax = simulation['uMax']\n",
    "\n",
    "routine = lambda t, u: print(f'uMax={float(u)} when t={t}')\n",
    "u_high = 0.8\n",
    "u_low = 0.6\n",
    "writer = create_writer(uMax[-1], is_in_interval, routine=routine)(u_low, u_high)\n",
    "\n",
    "n_stop = 100\n",
    "integrate(simulation, n_stop=n_stop, writers=[writer])\n"
   ]
  },
  {
   "cell_type": "markdown",
   "id": "9b8d3cbb",
   "metadata": {},
   "source": [
    "## Stopping criteria"
   ]
  },
  {
   "cell_type": "code",
   "execution_count": 3,
   "id": "63574b4b",
   "metadata": {},
   "outputs": [],
   "source": [
    "def is_less_than(\n",
    "    u: Constant,\n",
    "    u_thresh: float,\n",
    ") -> bool:\n",
    "    return u.value < u_thresh\n",
    "\n",
    "simulation = diffusion_simulation_interval(store_step=1)(\n",
    "    Lx=1.0,\n",
    "    Nx=200,\n",
    "    dt=0.001,\n",
    "    m_exponent=2,\n",
    "    D_fdm=CN,\n",
    ")\n",
    "uMax = simulation['uMax']\n",
    "\n",
    "uMax_thresh = 0.5\n",
    "stopper = create_stopper(uMax[-1], is_less_than)(uMax_thresh)\n",
    "\n",
    "n_stop = 500\n",
    "integrate(simulation, n_stop=n_stop, stoppers=[stopper])"
   ]
  },
  {
   "cell_type": "code",
   "execution_count": 4,
   "id": "1708e604",
   "metadata": {},
   "outputs": [
    {
     "data": {
      "text/plain": [
       "(<Figure size 640x480 with 1 Axes>, <Axes: >)"
      ]
     },
     "execution_count": 4,
     "metadata": {},
     "output_type": "execute_result"
    },
    {
     "data": {
      "image/png": "[encoded data removed]",
      "text/plain": [
       "<Figure size 640x480 with 1 Axes>"
      ]
     },
     "metadata": {},
     "output_type": "display_data"
    }
   ],
   "source": [
    "plot_line((uMax.time_series, uMax.value_series))"
   ]
  },
  {
   "cell_type": "markdown",
   "id": "4aba2c86",
   "metadata": {},
   "source": [
    "## Writing criteria"
   ]
  }
 ],
 "metadata": {
  "kernelspec": {
   "display_name": "lucifex",
   "language": "python",
   "name": "python3"
  },
  "language_info": {
   "codemirror_mode": {
    "name": "ipython",
    "version": 3
   },
   "file_extension": ".py",
   "mimetype": "text/x-python",
   "name": "python",
   "nbconvert_exporter": "python",
   "pygments_lexer": "ipython3",
   "version": "3.10.12"
  }
 },
 "nbformat": 4,
 "nbformat_minor": 5
}
