{
 "cells": [
  {
   "cell_type": "markdown",
   "id": "84980292",
   "metadata": {},
   "source": [
    "# Mathieu equation"
   ]
  },
  {
   "cell_type": "markdown",
   "id": "456148b2",
   "metadata": {},
   "source": [
    "eigenvalue problem on $\\textbf{x}\\in\\Omega$\n",
    "\n",
    "$$\\nabla^2u + (\\lambda - 2q\\cos(\\textbf{k}\\cdot\\textbf{x})) u = 0$$\n",
    "\n",
    "$$\\left[-\\nabla^2 + 2q\\cos(\\textbf{k}\\cdot\\textbf{x})\\right]u = \\lambda u$$"
   ]
  },
  {
   "cell_type": "code",
   "execution_count": 2,
   "id": "fcb54ed6",
   "metadata": {},
   "outputs": [],
   "source": [
    "import numpy as np\n",
    "from cycler import cycler\n",
    "from dolfinx.fem import FunctionSpace\n",
    "from ufl import (Form, dx, inner, grad, cos, \n",
    "    TestFunction, TrialFunction, SpatialCoordinate,\n",
    ")\n",
    "\n",
    "from lucifex.mesh import interval_mesh\n",
    "from lucifex.fem import LUCiFExConstant as Constant\n",
    "from lucifex.solver import evp_solver, EigenvalueProblem, BoundaryConditions, OptionsSLEPc\n",
    "from lucifex.viz import plot_line\n",
    "from lucifex.io import write\n",
    "\n",
    "\n",
    "def mathieu(\n",
    "    fs: FunctionSpace,\n",
    "    q: Constant,\n",
    "    k: Constant,\n",
    ") -> tuple[Form, Form]:\n",
    "    v = TestFunction(fs)\n",
    "    u = TrialFunction(fs)\n",
    "    x = SpatialCoordinate(fs.mesh)\n",
    "    lhs = inner(grad(v), grad(u)) * dx\n",
    "    lhs += 2 * v * q * cos(inner(k, x)) * u * dx\n",
    "    rhs = v * u * dx\n",
    "    return lhs, rhs"
   ]
  },
  {
   "cell_type": "markdown",
   "id": "47a05133",
   "metadata": {},
   "source": [
    "### Example: $d=1$ interval\n",
    "\n",
    "$$\\Omega = [0, L_x]$$\n",
    "\n",
    "$$\\textbf{k}=2\\,\\textbf{e}_x$$\n",
    "\n",
    "$$u(x=0, L_x)=0$$\n",
    "\n",
    "$$q=0\\implies\\frac{\\text{d}^2u}{\\text{d}x^2} + \\lambda u =0~,~u_n(x)=\\sin(\\sqrt{\\lambda_n}x)~,~\\lambda_n=\\frac{n^2\\pi^2}{L_x^2}$$"
   ]
  },
  {
   "cell_type": "code",
   "execution_count": 8,
   "id": "a45ef684",
   "metadata": {},
   "outputs": [],
   "source": [
    "def mathieu_1d_solver(\n",
    "    Lx: float,\n",
    "    Nx: int,\n",
    "    bcs: BoundaryConditions, \n",
    "    q: float,\n",
    "    k: float,\n",
    "    nev: int,\n",
    ") -> EigenvalueProblem:\n",
    "    mesh = interval_mesh(Lx, Nx)\n",
    "    q = Constant(mesh, q)\n",
    "    k = Constant(mesh, (k, ))\n",
    "\n",
    "    fs = FunctionSpace(mesh, ('P', 1))\n",
    "    slepc = OptionsSLEPc(\n",
    "        eps_tol=1e-10,\n",
    "        eps_target=0.0,\n",
    "        eps_nev=nev,\n",
    "        eps_ncv=50,\n",
    "        eps_max_it=1000,\n",
    "        eps_which='smallest_real',\n",
    "    )\n",
    "    u_solver = evp_solver(mathieu, bcs, slepc)(fs, q, k)\n",
    "    return u_solver\n",
    "\n",
    "\n",
    "Lx = 1.0\n",
    "Nx = 200\n",
    "bcs = BoundaryConditions(\n",
    "        ('dirichlet', lambda x: x[0], 0.0),\n",
    "        ('dirichlet', lambda x: x[0] - Lx, 0.0),\n",
    "    )\n",
    "nev = 4\n",
    "k = 2.0\n",
    "\n",
    "q_axis = np.linspace(0, 20, num=10)\n",
    "solvers = [mathieu_1d_solver(Lx, Nx, bcs, q, k, nev) for q in q_axis]"
   ]
  },
  {
   "cell_type": "code",
   "execution_count": 9,
   "id": "cbc722b3",
   "metadata": {},
   "outputs": [],
   "source": [
    "[s.solve() for s in solvers]\n",
    "eigenvalues = [s.eigenvalues for s in solvers]\n",
    "eigenreals = [[np.real(l) for l in lmbdas] for lmbdas in eigenvalues]\n",
    "eigenreals_q0 = [(n * np.pi/ Lx) ** 2 for n in range(nev)]"
   ]
  },
  {
   "cell_type": "code",
   "execution_count": 12,
   "id": "172496d9",
   "metadata": {},
   "outputs": [
    {
     "data": {
      "image/png": "[encoded data removed]",
      "text/plain": [
       "<Figure size 640x480 with 1 Axes>"
      ]
     },
     "metadata": {},
     "output_type": "display_data"
    }
   ],
   "source": [
    "lines = [\n",
    "    (q_axis, [eigenreals[q_index][n] for q_index in range(len(q_axis))])\n",
    "    for n in range(nev)\n",
    "]\n",
    "cyc = cycler(linestyle=['dotted'], marker=['o'], ms=[4], color=['black'])\n",
    "slc = slice(1, None)\n",
    "fig, ax = plot_line(\n",
    "    lines[slc], \n",
    "    cyc=cyc,\n",
    "    x_label='$q$', \n",
    "    y_label='$\\lambda(q)$')\n",
    "ax.set_xlim(q_axis[0], q_axis[-1])\n",
    "ax.hlines(eigenreals_q0[slc], q_axis[0], q_axis[-1], color='black', lw=0.5, ls='-')\n",
    "write(fig, f'A15_mathieu_eigenvalues', './figures', close=False, pickle=False)"
   ]
  }
 ],
 "metadata": {
  "kernelspec": {
   "display_name": "lucifex",
   "language": "python",
   "name": "python3"
  },
  "language_info": {
   "codemirror_mode": {
    "name": "ipython",
    "version": 3
   },
   "file_extension": ".py",
   "mimetype": "text/x-python",
   "name": "python",
   "nbconvert_exporter": "python",
   "pygments_lexer": "ipython3",
   "version": "3.10.12"
  }
 },
 "nbformat": 4,
 "nbformat_minor": 5
}
