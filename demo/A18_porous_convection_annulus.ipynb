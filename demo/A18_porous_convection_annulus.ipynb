{
 "cells": [
  {
   "cell_type": "markdown",
   "id": "777392a1",
   "metadata": {},
   "source": [
    "## $d=2$ annulus convection example\n",
    "\n",
    "$$\\Omega = \\{(x, y)~:~R_{\\text{inner}}^2 < x^2 + y^2 < R_{\\text{outer}}^2\\}$$\n",
    "\n",
    "$$\\partial\\Omega_{\\text{inner}} = \\{(x, y)~:~ x^2 + y^2 = R_{\\text{inner}}^2 \\}$$\n",
    "\n",
    "$$\\partial\\Omega_{\\text{outer}} = \\{(x, y)~:~ x^2 + y^2 = R_{\\text{outer}}^2 \\}$$\n",
    "\n",
    "$$c\\vert_{\\partial\\Omega_{\\text{inner}}}=1$$\n",
    "\n",
    "$$c\\vert_{\\partial\\Omega_{\\text{outer}}}=0$$\n",
    "\n",
    "$$\\textbf{e}_g=-\\textbf{e}_r=-(\\cos\\theta\\,\\textbf{e}_x+\\sin\\theta\\,\\textbf{e}_y)~,~\\theta=\\tan^{-1}(y/x)$$\n",
    "\n",
    "$$\n",
    "\\begin{align*}\n",
    "\\phi &= 1 \\\\\n",
    "\\mathsf{D} &= \\mathsf{I} \\\\ \n",
    "\\mathsf{K} &= \\mathsf{I}\\\\ \n",
    "\\mu &= 1 \\\\\n",
    "\\rho(c) &= -c\n",
    "\\end{align*}\n",
    "$$"
   ]
  }
 ],
 "metadata": {
  "kernelspec": {
   "display_name": "lucifex",
   "language": "python",
   "name": "python3"
  },
  "language_info": {
   "name": "python",
   "version": "3.10.12"
  }
 },
 "nbformat": 4,
 "nbformat_minor": 5
}
