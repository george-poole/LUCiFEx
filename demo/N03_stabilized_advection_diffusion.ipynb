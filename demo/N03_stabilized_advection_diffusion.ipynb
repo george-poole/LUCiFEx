{
 "cells": [
  {
   "cell_type": "markdown",
   "id": "582d32ca",
   "metadata": {},
   "source": [
    "$\\textbf{x}\\in\\Omega$\n",
    "\n",
    "$$\\frac{\\partial u}{\\partial t}+\\textbf{a}\\cdot\\nabla u =\\varepsilon\\nabla^2u - \\sigma u + s$$\n",
    "\n",
    "$$\\int_\\Omega\\text{d}x~v\\frac{\\partial u}{\\partial t}+v\\,\\textbf{a}\\cdot\\nabla u + \\varepsilon\\nabla v\\cdot\\nabla u + v\\sigma u - vs - \\int_{\\partial\\Omega}\\text{d}s~v\\varepsilon\\,\\textbf{n}\\cdot\\nabla u=0 \\qquad \\forall v\\in V$$\n",
    "\n",
    "SUPG stabilization\n",
    "\n",
    "$$\\tau = \\dots$$"
   ]
  },
  {
   "cell_type": "code",
   "execution_count": null,
   "id": "14cd5e92",
   "metadata": {},
   "outputs": [],
   "source": []
  },
  {
   "cell_type": "markdown",
   "id": "fe728dfd",
   "metadata": {},
   "source": [
    "### $d=1$"
   ]
  },
  {
   "cell_type": "code",
   "execution_count": null,
   "id": "ba12f624",
   "metadata": {},
   "outputs": [],
   "source": []
  },
  {
   "cell_type": "markdown",
   "id": "74f5a83a",
   "metadata": {},
   "source": [
    "### $d=2$"
   ]
  }
 ],
 "metadata": {
  "kernelspec": {
   "display_name": "lucifex",
   "language": "python",
   "name": "python3"
  },
  "language_info": {
   "name": "python",
   "version": "3.10.12"
  }
 },
 "nbformat": 4,
 "nbformat_minor": 5
}
