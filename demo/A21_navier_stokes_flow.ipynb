{
 "cells": [
  {
   "cell_type": "code",
   "execution_count": null,
   "id": "804f7b63",
   "metadata": {},
   "outputs": [],
   "source": [
    "def rectangle_with_obstacle_mesh():\n",
    "    ..."
   ]
  }
 ],
 "metadata": {
  "kernelspec": {
   "display_name": "lucifex",
   "language": "python",
   "name": "python3"
  },
  "language_info": {
   "name": "python",
   "version": "3.10.12"
  }
 },
 "nbformat": 4,
 "nbformat_minor": 5
}
