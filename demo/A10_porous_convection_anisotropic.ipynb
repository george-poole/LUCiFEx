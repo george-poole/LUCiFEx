{
 "cells": [
  {
   "cell_type": "markdown",
   "id": "d80bebbe",
   "metadata": {},
   "source": [
    "## $d=2$ anisotropic convection example"
   ]
  },
  {
   "cell_type": "markdown",
   "id": "1b0c066f",
   "metadata": {},
   "source": [
    "$$\\Omega = [0, L_x] \\times [0, L_y]$$\n",
    "\n",
    "$$c(x,y,t=0)=1-y+\\mathcal{N}(x,y)$$\n",
    "\n",
    "$$c(x,y=L_y)=1$$\n",
    "\n",
    "$$\\frac{\\partial c}{\\partial x}\\bigg\\vert_{x=0,y}=\\frac{\\partial c}{\\partial x}\\bigg\\vert_{x=L_x,y}=\\frac{\\partial c}{\\partial y}\\bigg\\vert_{x,y=0}=0$$\n",
    "\n",
    "$$\\psi\\vert_{\\partial\\Omega}=0$$\n",
    "\n",
    "$$\\textbf{e}_g=-\\textbf{e}_y \\implies e_g^x=0~,~e_g^y=-1$$\n",
    "\n",
    "$$\n",
    "\\begin{align*}\n",
    "\\phi &= 1 \\\\\n",
    "\\mathsf{D} &= \\mathsf{I} \\\\ \n",
    "\\mathsf{K} &= \\mathsf{I}\\\\ \n",
    "\\mu &= 1 \\\\\n",
    "\\rho(c) &= c\n",
    "\\end{align*}\n",
    "$$"
   ]
  }
 ],
 "metadata": {
  "kernelspec": {
   "display_name": "lucifex",
   "language": "python",
   "name": "python3"
  },
  "language_info": {
   "name": "python",
   "version": "3.10.12"
  }
 },
 "nbformat": 4,
 "nbformat_minor": 5
}
