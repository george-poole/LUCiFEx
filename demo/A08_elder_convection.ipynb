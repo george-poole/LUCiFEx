{
 "cells": [
  {
   "cell_type": "code",
   "execution_count": null,
   "id": "7dbc91e9",
   "metadata": {},
   "outputs": [],
   "source": [
    "from .py.porous_convection import abstract_porous_convection\n",
    "\n",
    "def elder_convection():\n",
    "    return abstract_porous_convection()"
   ]
  }
 ],
 "metadata": {
  "kernelspec": {
   "display_name": "lucifex",
   "language": "python",
   "name": "python3"
  },
  "language_info": {
   "name": "python",
   "version": "3.10.12"
  }
 },
 "nbformat": 4,
 "nbformat_minor": 5
}
