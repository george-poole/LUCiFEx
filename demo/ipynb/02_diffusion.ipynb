{
 "cells": [
  {
   "cell_type": "code",
   "execution_count": null,
   "metadata": {},
   "outputs": [],
   "source": [
    "from dolfinx.fem import Function, Constant\n",
    "from ufl import Form, dx\n",
    "\n",
    "from lucifex.fdm import FiniteDifference, FunctionSeries, ConstantSeries, inner, grad\n",
    "\n",
    "\n",
    "def diffusion(\n",
    "    u: FunctionSeries,\n",
    "    dt: Constant | float,\n",
    "    k: FunctionSeries | Function | ConstantSeries | Constant,\n",
    "    Dt: FiniteDifference, \n",
    "    Dd: FiniteDifference,\n",
    ") -> tuple[tuple[Constant, Form], Form]:\n",
    "    \"\"\"\n",
    "    `∂u/∂t = ∇·(κ∇u)`\n",
    "\n",
    "    with diffusivity `κ = κ(x)` or `κ = κ(x,t)` in the\n",
    "    variational formulation\n",
    "\n",
    "    `F(u,v) = ∫ v·∂u/∂t dx + ∫ ∇v·(κ∇u) dx - ∫ v·κ(n·∇u) ds`\n",
    "    \"\"\"\n",
    "    Ft = (1 / dt, u.test * Dt(u) * dx)\n",
    "    Fd = inner(grad(u.test), k * grad(Dd(u))) * dx\n",
    "    return Ft, Fd\n",
    "    "
   ]
  }
 ],
 "metadata": {
  "kernelspec": {
   "display_name": "lucifex",
   "language": "python",
   "name": "python3"
  },
  "language_info": {
   "name": "python",
   "version": "3.10.12"
  }
 },
 "nbformat": 4,
 "nbformat_minor": 2
}
