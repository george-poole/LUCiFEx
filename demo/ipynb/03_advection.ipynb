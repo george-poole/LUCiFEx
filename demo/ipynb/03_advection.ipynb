{
 "cells": [
  {
   "cell_type": "code",
   "execution_count": null,
   "metadata": {},
   "outputs": [],
   "source": [
    "from dolfinx.fem import Function, Constant\n",
    "from ufl import Form, dx\n",
    "\n",
    "from lucifex.fdm import FiniteDifference, FunctionSeries, ConstantSeries, inner, grad\n",
    "\n",
    "def advection(\n",
    "    u: FunctionSeries,\n",
    "    dt: Constant,\n",
    "    w: FunctionSeries | Function | ConstantSeries | Constant,\n",
    "    Dt: FiniteDifference,\n",
    "    Da: FiniteDifference,\n",
    ") -> tuple[tuple[Constant, Form], Form]:\n",
    "    \"\"\"\n",
    "    `∂u/∂t + w(x,t)·∇u = 0`\n",
    "    \"\"\"\n",
    "    Ft = (1 / dt, u.test * Dt(u) * dx)\n",
    "    Fa = u.test * inner(w, grad(Da(u))) * dx\n",
    "    return Ft, Fa\n"
   ]
  }
 ],
 "metadata": {
  "kernelspec": {
   "display_name": "lucifex",
   "language": "python",
   "name": "python3"
  },
  "language_info": {
   "name": "python",
   "version": "3.10.12"
  }
 },
 "nbformat": 4,
 "nbformat_minor": 2
}
