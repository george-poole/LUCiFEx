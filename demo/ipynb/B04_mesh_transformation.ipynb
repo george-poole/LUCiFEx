{
 "cells": [
  {
   "cell_type": "code",
   "execution_count": null,
   "id": "a07f0160",
   "metadata": {},
   "outputs": [],
   "source": [
    "from typing import Callable\n",
    "import numpy as np\n",
    "from lucifex.mesh import rectangle_mesh\n",
    "\n",
    "\n",
    "def power_transform(\n",
    "    s: float,\n",
    "    Lx: float | tuple[float, float],\n",
    ") -> Callable:\n",
    "    \"\"\"\n",
    "    `ζ(x) = (x - x₋) / (x₊ - x₋) –> ((x - x₋) / (x₊ - x₋))ˢ`\n",
    "    \"\"\"\n",
    "    if isinstance(Lx, float):\n",
    "        Lx = (0.0, Lx)\n",
    "    x_min, x_max = Lx\n",
    "    Lx = x_max - x_min\n",
    "\n",
    "    return lambda x: x_min + Lx * ((x - x_min) / Lx) ** s\n",
    "\n",
    "\n",
    "def tanh_transform(\n",
    "    s: float,\n",
    "    Lx: float | tuple[float, float],\n",
    ") -> Callable:\n",
    "    \"\"\"\n",
    "    `ζ(x) = x̄ + x̂·tanh(s·(x - x̄)) / tanh(s·x̂)`\n",
    "\n",
    "    where \n",
    "\n",
    "    `x̄ = (x₋ + x₊) / 2` \\\\\n",
    "    `x̂ = (x₊ - x₋) / 2`\n",
    "\n",
    "    `s > 0` is the stretching strength \n",
    "    and `[x₋, x₊]` defines the interval.\n",
    "    \"\"\"\n",
    "    if isinstance(Lx, float):\n",
    "        Lx = (0.0, Lx)\n",
    "    x_min, x_max = Lx\n",
    "    x_avg = 0.5 * (x_min + x_max)\n",
    "    Lx = x_max - x_min\n",
    "\n",
    "    return lambda x: x_avg + 0.5 * Lx * np.tanh(s * (x - x_avg)) / np.tanh(0.5 * s * Lx)\n",
    "\n",
    "\n",
    "mesh = rectangle_mesh(1.0, 1.0, 20, 20, cell='quadrilateral')\n"
   ]
  }
 ],
 "metadata": {
  "kernelspec": {
   "display_name": "lucifex",
   "language": "python",
   "name": "python3"
  },
  "language_info": {
   "name": "python",
   "version": "3.10.12"
  }
 },
 "nbformat": 4,
 "nbformat_minor": 5
}
