{
 "cells": [
  {
   "cell_type": "markdown",
   "metadata": {},
   "source": [
    "Derived quantities may be computed and written to file during the course of the simulation, or alternatively during the postprocessing stage. The advantage of computing them during the course of the simulation is ... using for stoppers, flagging numerical instabilities ..."
   ]
  },
  {
   "cell_type": "code",
   "execution_count": 1,
   "metadata": {},
   "outputs": [
    {
     "name": "stdout",
     "output_type": "stream",
     "text": [
      "-2.359999999999998 -2.4\n",
      "-3.9600000000000013 -4.0\n"
     ]
    }
   ],
   "source": [
    "from ufl import inner, grad\n",
    "from dolfinx.fem import FunctionSpace, VectorFunctionSpace\n",
    "from lucifex.fem import StaticConstant, StaticFunction\n",
    "from lucifex.fdm import FunctionSeries, ConstantSeries\n",
    "from lucifex.mesh import create_rectangle\n",
    "from lucifex.solver import ds_solver, dS_solver\n",
    "from lucifex.utils import set_fem_function\n",
    "\n",
    "\n",
    "Lx = 2.0\n",
    "Ly = 1.0\n",
    "mesh = create_rectangle(Lx, Ly, 50, 50, name=\"LxLy\")\n",
    "\n",
    "fs_vector = VectorFunctionSpace(mesh, ('P', 1), 2)\n",
    "u = StaticFunction(fs_vector)\n",
    "set_fem_function(u, (1.0, -1.0))\n",
    "\n",
    "fs_scalar = FunctionSpace(mesh, ('P', 1))\n",
    "c = StaticFunction(fs_scalar)\n",
    "set_fem_function(c, lambda x: x[1]**2)\n",
    "\n",
    "flux = StaticConstant(mesh, name=\"Fh0\")\n",
    "flux2 = StaticConstant(mesh, name=\"Ftop\")\n",
    "flux_expression = lambda u, c: inner(u, grad(c))\n",
    "\n",
    "\n",
    "h = 0.6\n",
    "flux_solver = dS_solver(flux_expression, lambda x: x[1] - h)(flux, u('+'), c('+'))\n",
    "flux_solver.solve()\n",
    "print(flux.value, -2*Lx*h)\n",
    "\n",
    "flux2_solver = ds_solver(flux_expression, lambda x: x[1] - Ly)(flux2, u, c)\n",
    "flux2_solver.solve()\n",
    "print(flux2.value, -2*Lx*Ly)\n"
   ]
  },
  {
   "cell_type": "code",
   "execution_count": 3,
   "metadata": {},
   "outputs": [
    {
     "data": {
      "text/plain": [
       "Measure('exterior_facet', subdomain_id=0, domain=Mesh(VectorElement(Basix element (P, quadrilateral, 1, gll_warped, unset, False), 2), 0), subdomain_data=<dolfinx.mesh.MeshTagsMetaClass object at 0x13fe35ee0>)"
      ]
     },
     "execution_count": 3,
     "metadata": {},
     "output_type": "execute_result"
    }
   ],
   "source": [
    "flux2_solver.measure"
   ]
  }
 ],
 "metadata": {
  "kernelspec": {
   "display_name": "lucifex",
   "language": "python",
   "name": "python3"
  },
  "language_info": {
   "codemirror_mode": {
    "name": "ipython",
    "version": 3
   },
   "file_extension": ".py",
   "mimetype": "text/x-python",
   "name": "python",
   "nbconvert_exporter": "python",
   "pygments_lexer": "ipython3",
   "version": "3.10.12"
  }
 },
 "nbformat": 4,
 "nbformat_minor": 2
}
