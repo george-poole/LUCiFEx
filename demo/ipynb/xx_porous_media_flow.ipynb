{
 "cells": [
  {
   "cell_type": "code",
   "execution_count": null,
   "metadata": {},
   "outputs": [
    {
     "ename": "SyntaxError",
     "evalue": "incomplete input (2721387926.py, line 37)",
     "output_type": "error",
     "traceback": [
      "\u001b[0;36m  Cell \u001b[0;32mIn[1], line 37\u001b[0;36m\u001b[0m\n\u001b[0;31m    ):\u001b[0m\n\u001b[0m      ^\u001b[0m\n\u001b[0;31mSyntaxError\u001b[0m\u001b[0;31m:\u001b[0m incomplete input\n"
     ]
    }
   ],
   "source": [
    "from typing import Callable\n",
    "import numpy as np\n",
    "\n",
    "def lens(\n",
    "    in_value: float,\n",
    "    out_value: float,\n",
    "    semi_axes: tuple[float, float],\n",
    "    centre: tuple[float, float],\n",
    ") -> Callable[[np.ndarray], np.ndarray]:\n",
    "    rx, ry = semi_axes\n",
    "    cx, cy = centre\n",
    "    inside = lambda x: (x[0] - cx) ** 2 / rx**2 + (x[1] - cy) ** 2 / ry**2 < 1\n",
    "    return lambda x: out_value + (in_value - out_value) * inside(x)\n",
    "\n",
    "def step(\n",
    "    lt_value: float, \n",
    "    gt_value: float, \n",
    "    position: float, \n",
    "    index: int,\n",
    ") -> Callable[[np.ndarray], np.ndarray]:\n",
    "    \"\"\"\n",
    "    `f(x) =`  \\\\\n",
    "    `f₋ if x < x₀` \\\\\n",
    "    `f₊ if x > x₀` \\\\\n",
    "\n",
    "    `f₋` value left of step \\\\\n",
    "    `f₊` value right of step \\\\\n",
    "    `x₀` centre position\n",
    "    \"\"\"\n",
    "    return lambda x: lt_value + (gt_value - lt_value) * (x[index] > position)\n",
    "\n",
    "def tophat(\n",
    "    value: float,\n",
    "    position: float, \n",
    "    thickness,\n",
    "    lt_value: float, \n",
    "    gt_value: float, \n",
    "    index: int,\n",
    ") -> Callable[[np.ndarray], np.ndarray]:\n",
    "    pass"
   ]
  }
 ],
 "metadata": {
  "kernelspec": {
   "display_name": "lucifex",
   "language": "python",
   "name": "python3"
  },
  "language_info": {
   "codemirror_mode": {
    "name": "ipython",
    "version": 3
   },
   "file_extension": ".py",
   "mimetype": "text/x-python",
   "name": "python",
   "nbconvert_exporter": "python",
   "pygments_lexer": "ipython3",
   "version": "3.10.12"
  }
 },
 "nbformat": 4,
 "nbformat_minor": 2
}
