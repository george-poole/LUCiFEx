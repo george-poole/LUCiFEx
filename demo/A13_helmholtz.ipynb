{
 "cells": [
  {
   "cell_type": "markdown",
   "id": "4502e991",
   "metadata": {},
   "source": [
    "$\\textbf{x}\\in\\Omega$\n",
    "\n",
    "$$\\nabla^2 u + k^2 u = s(\\textbf{x})$$\n",
    "\n",
    "$\\textbf{x}\\in\\partial\\Omega_D$ Dirichlet boundary condition\n",
    "\n",
    "$$u = u_D$$\n",
    "\n",
    "$\\textbf{x}\\in\\partial\\Omega_N=\\partial\\Omega/\\partial\\Omega_D$ Neumann condition\n",
    "\n",
    "$$\\textbf{n}\\cdot\\nabla{u} = u_N$$"
   ]
  },
  {
   "cell_type": "code",
   "execution_count": 1,
   "id": "cf56cc8a",
   "metadata": {},
   "outputs": [],
   "source": [
    "import numpy as np\n",
    "from dolfinx.fem import FunctionSpace\n",
    "from ufl import (Form, dx, inner, grad, \n",
    "    TestFunction, TrialFunction,\n",
    ")\n",
    "\n",
    "from lucifex.mesh import rectangle_mesh, mesh_boundary\n",
    "from lucifex.fem import LUCiFExConstant as Constant\n",
    "from lucifex.solver import evp_solver, EigenvalueProblem, BoundaryConditions, OptionsSLEPc\n",
    "from lucifex.viz import plot_colormap\n",
    "from lucifex.io import write\n",
    "\n",
    "\n",
    "def helmholtz(\n",
    "    fs: FunctionSpace,\n",
    "    k: Constant | None = None,\n",
    "    s: Constant | None = None\n",
    ") -> tuple[Form, Form] | list[Form]:\n",
    "    v = TestFunction(fs)\n",
    "    u = TrialFunction(fs)\n",
    "    lhs = -inner(grad(v), grad(u)) * dx\n",
    "    rhs = v * u * dx\n",
    "    if k is None and s is None:\n",
    "        return lhs, rhs\n",
    "    else:\n",
    "        raise NotImplementedError"
   ]
  },
  {
   "cell_type": "markdown",
   "id": "0d350be6",
   "metadata": {},
   "source": [
    "### Eigenvalue problem ($s=0$ and $\\partial\\Omega_{\\text{N}}=\\varnothing$)\n",
    "\n",
    "$$\\Omega = [0, L_x] \\times [0, L_y]$$\n",
    "\n",
    "$$u(x=0,y)=u(x=L_x,y)=u(x,y=0)=u(x,y=L_y)=0$$"
   ]
  },
  {
   "cell_type": "code",
   "execution_count": 2,
   "id": "d96121fd",
   "metadata": {},
   "outputs": [],
   "source": [
    "def helmholtz_2d_solver(\n",
    "    Lx: float,\n",
    "    Ly: float,\n",
    "    Nx: int,\n",
    "    Ny: int,\n",
    "    nev: int,\n",
    "    **slepc\n",
    ") -> EigenvalueProblem:\n",
    "    mesh = rectangle_mesh(Lx, Ly, Nx, Ny)\n",
    "    boundary = mesh_boundary(\n",
    "            mesh, \n",
    "            {\n",
    "                \"left\": lambda x: x[0],\n",
    "                \"right\": lambda x: x[0] - Lx,\n",
    "                \"lower\": lambda x: x[1],\n",
    "                \"upper\": lambda x: x[1] - Ly,\n",
    "            },\n",
    "    )\n",
    "    bcs = BoundaryConditions(('dirichlet', boundary.union, 0.0))\n",
    "\n",
    "    fs = FunctionSpace(mesh, ('P', 1))\n",
    "    slepc = OptionsSLEPc(\n",
    "        eps_tol=1e-10,\n",
    "        eps_target=0.0,\n",
    "        eps_nev=nev,\n",
    "        eps_ncv=50,\n",
    "        eps_max_it=1000,\n",
    "        eps_which='smallest_real',\n",
    "    )\n",
    "    u_solver = evp_solver(helmholtz, bcs, slepc)(fs)\n",
    "    return u_solver\n",
    "\n",
    "\n",
    "nev = 10\n",
    "solver = helmholtz_2d_solver(1.0, 1.0, 32, 32, nev)\n",
    "solver.solve()"
   ]
  },
  {
   "cell_type": "code",
   "execution_count": 3,
   "id": "8b90e38d",
   "metadata": {},
   "outputs": [
    {
     "data": {
      "text/plain": [
       "[None,\n",
       " None,\n",
       " None,\n",
       " 4.444667393076721,\n",
       " 7.034411761557017,\n",
       " 7.034411761557114,\n",
       " 8.900046596911208,\n",
       " 9.967342410168534,\n",
       " 9.967342410168753,\n",
       " 11.361152904419761]"
      ]
     },
     "execution_count": 3,
     "metadata": {},
     "output_type": "execute_result"
    }
   ],
   "source": [
    "sqrt = lambda x: np.sqrt(np.real(-x)) if np.real(x) < 0 else None\n",
    "k_values = [sqrt(e) for e in solver.eigenvalues]\n",
    "k_values"
   ]
  },
  {
   "cell_type": "code",
   "execution_count": null,
   "id": "f802f058",
   "metadata": {},
   "outputs": [],
   "source": [
    "for k, u in zip(k_values, solver.eigenfunctions):\n",
    "    if k is not None:\n",
    "        fig, ax = plot_colormap(u, title=f'$k={k}$')\n",
    "        write(fig, f'A13_helmholtz_k={k:.3f}', './figures', pickle=False)"
   ]
  }
 ],
 "metadata": {
  "kernelspec": {
   "display_name": "lucifex",
   "language": "python",
   "name": "python3"
  },
  "language_info": {
   "codemirror_mode": {
    "name": "ipython",
    "version": 3
   },
   "file_extension": ".py",
   "mimetype": "text/x-python",
   "name": "python",
   "nbconvert_exporter": "python",
   "pygments_lexer": "ipython3",
   "version": "3.10.12"
  }
 },
 "nbformat": 4,
 "nbformat_minor": 5
}
