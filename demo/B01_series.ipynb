{
 "cells": [
  {
   "cell_type": "code",
   "execution_count": null,
   "metadata": {},
   "outputs": [
    {
     "data": {
      "text/plain": [
       "('AB2', 'AB2')"
      ]
     },
     "execution_count": 1,
     "metadata": {},
     "output_type": "execute_result"
    },
    {
     "ename": "",
     "evalue": "",
     "output_type": "error",
     "traceback": [
      "\u001b[1;31mThe Kernel crashed while executing code in the current cell or a previous cell. \n",
      "\u001b[1;31mPlease review the code in the cell(s) to identify a possible cause of the failure. \n",
      "\u001b[1;31mClick <a href='https://aka.ms/vscodeJupyterKernelCrash'>here</a> for more info. \n",
      "\u001b[1;31mView Jupyter <a href='command:jupyter.viewOutput'>log</a> for further details."
     ]
    }
   ],
   "source": [
    "from lucifex.fdm import ExprSeries, FunctionSeries, FiniteDifference, AB\n",
    "from lucifex.fem import StaticConstant, StaticFunction\n",
    "from lucifex.mesh import rectangle_mesh\n",
    "\n",
    "mesh = rectangle_mesh(2.0, 1.0, 10 ,10)\n",
    "cg = (mesh, 'P', 1)\n",
    "\n",
    "a = FunctionSeries(cg, 'a', order=2)\n",
    "a.update(0.0)\n",
    "a.update(0.0, True)\n",
    "b = FunctionSeries(cg, 'b', order=2)\n",
    "b.update(0.0)\n",
    "b.update(0.0, True)\n",
    "\n",
    "e = a*(1 + b)**2\n",
    "\n",
    "repr(AB(2)), str(AB(2))"
   ]
  },
  {
   "cell_type": "code",
   "execution_count": 6,
   "metadata": {},
   "outputs": [
    {
     "data": {
      "text/plain": [
       "'(<lucifex.fdm.finite_difference.FiniteDifference object at 0x14e80bf40>, <lucifex.fdm.finite_difference.FiniteDifference object at 0x14e809570>)'"
      ]
     },
     "execution_count": 6,
     "metadata": {},
     "output_type": "execute_result"
    }
   ],
   "source": [
    "str((AB(2), AB(2)))"
   ]
  }
 ],
 "metadata": {
  "kernelspec": {
   "display_name": "lucifex",
   "language": "python",
   "name": "python3"
  },
  "language_info": {
   "codemirror_mode": {
    "name": "ipython",
    "version": 3
   },
   "file_extension": ".py",
   "mimetype": "text/x-python",
   "name": "python",
   "nbconvert_exporter": "python",
   "pygments_lexer": "ipython3",
   "version": "3.10.12"
  }
 },
 "nbformat": 4,
 "nbformat_minor": 2
}
