{
 "cells": [
  {
   "cell_type": "markdown",
   "metadata": {},
   "source": [
    "# Series objects"
   ]
  },
  {
   "cell_type": "markdown",
   "metadata": {},
   "source": [
    "time-independent function\n",
    "\n",
    "$$u(\\textbf{x}) \\leftrightarrow \\texttt{Function}$$\n",
    "\n",
    "$$u(\\textbf{x})=\\sum_ju_j\\xi_j(\\textbf{x})$$"
   ]
  },
  {
   "cell_type": "markdown",
   "metadata": {},
   "source": [
    "We denote by $\\leftrightarrow$ a correspondence between mathematical notation and its implementation in `lucifex`.\n",
    "\n",
    "time-dependent function\n",
    "\n",
    "$$u(\\textbf{x},t) \\leftrightarrow \\texttt{FunctionSeries}$$\n",
    "\n",
    "$$u(\\textbf{x},t)\\approx\\sum_ju_j(t)\\xi_j(\\textbf{x})$$\n",
    "\n",
    "$$u(\\textbf{x}, t\\leq t^{n+1})\\approx\n",
    "\\begin{bmatrix}\n",
    "u^{n+1}(\\textbf{x}) \\\\\n",
    "u^n(\\textbf{x}) \\\\\n",
    "u^{n-1}(\\textbf{x}) \\\\\n",
    "\\vdots\n",
    "\\end{bmatrix}$$\n",
    "\n",
    "where $u^n(\\textbf{x})=\\sum_ju_j^n\\xi_j(\\textbf{x})$ and $u_j^n\\approx u_j(t^n)$\n",
    "\n",
    "time-dependent constant \n",
    "\n",
    "$$C(t) \\leftrightarrow \\texttt{ConstantSeries}$$\n",
    "\n",
    "time-independent constant \n",
    "\n",
    "$$C \\leftrightarrow \\texttt{Constant}$$\n",
    "\n",
    "time-dependent expression \n",
    "\n",
    "$$f(a(\\textbf{x}, t), b(\\textbf{x}, t)) \\leftrightarrow \\texttt{ExprSeries}$$\n",
    "\n",
    "time-independent expression \n",
    "\n",
    "$$f \\leftrightarrow \\texttt{Expr}$$"
   ]
  },
  {
   "cell_type": "code",
   "execution_count": 1,
   "metadata": {},
   "outputs": [
    {
     "name": "stdout",
     "output_type": "stream",
     "text": [
      "\n",
      " After setting present value:\n",
      "FunctionSeries(Unsolved, Unsolved; a⁽⁰⁾; Unsolved)\n",
      "FunctionSeries(Unsolved, Unsolved; b⁽⁰⁾; Unsolved)\n",
      "\n",
      " After setting future value:\n",
      "FunctionSeries(Unsolved, Unsolved; a⁽⁰⁾; a⁽⁺¹⁾)\n",
      "FunctionSeries(Unsolved, Unsolved; b⁽⁰⁾; b⁽⁺¹⁾)\n",
      "\n",
      " After stepping forward:\n",
      "FunctionSeries(Unsolved, a⁽⁻¹⁾; a⁽⁰⁾; Unsolved)\n",
      "FunctionSeries(Unsolved, b⁽⁻¹⁾; b⁽⁰⁾; Unsolved)\n",
      "\n",
      " After stepping forward again:\n",
      "FunctionSeries(a⁽⁻²⁾, a⁽⁻¹⁾; Unsolved; Unsolved)\n",
      "FunctionSeries(b⁽⁻²⁾, b⁽⁻¹⁾; Unsolved; Unsolved)\n"
     ]
    }
   ],
   "source": [
    "from lucifex.fdm import FunctionSeries, FiniteDifference, DT, AB, AM\n",
    "from lucifex.fem import LUCiFExConstant as Constant\n",
    "from lucifex.mesh import interval_mesh\n",
    "\n",
    "\n",
    "mesh = interval_mesh(1.0, 10)\n",
    "order = 3\n",
    "\n",
    "a = FunctionSeries((mesh, 'P', 1), 'a', order=order)\n",
    "a.update(0.1)\n",
    "\n",
    "b = FunctionSeries((mesh, 'P', 1), 'b', order=order)\n",
    "b.update(0.3)\n",
    "\n",
    "print('\\n After setting present value:')\n",
    "print(repr(a))\n",
    "print(repr(b))\n",
    "\n",
    "a.update(0.2, future=True)\n",
    "b.update(0.4, future=True)\n",
    "print('\\n After setting future value:')\n",
    "print(repr(a))\n",
    "print(repr(b))\n",
    "\n",
    "t = 0.0\n",
    "a.forward(t)\n",
    "b.forward(t)\n",
    "print('\\n After stepping forward:')\n",
    "print(repr(a))\n",
    "print(repr(b))\n",
    "\n",
    "t = 1.0\n",
    "a.forward(t)\n",
    "b.forward(t)\n",
    "print('\\n After stepping forward again:')\n",
    "print(repr(a))\n",
    "print(repr(b))"
   ]
  },
  {
   "cell_type": "markdown",
   "metadata": {},
   "source": [
    "## Operations on series objects\n",
    "\n",
    "unary operations\n",
    "\n",
    "$$\\mathcal{O}_1 \\leftrightarrow \\texttt{Callable[[Series], ExprSeries]}$$\n",
    "\n",
    "$$\\mathcal{O}_1(u(\\textbf{x},t)) \\leftrightarrow \\texttt{ExprSeries}$$\n",
    "\n",
    "$$\\mathcal{O}_1(u(\\textbf{x},t)) \\approx \n",
    "\\begin{bmatrix}\n",
    "\\mathcal{O}_1(u^{n+1}(\\textbf{x})) \\\\\n",
    "\\mathcal{O}_1(u^n(\\textbf{x})) \\\\\n",
    "\\mathcal{O}_1(u^{n-1}(\\textbf{x})) \\\\\n",
    "\\vdots\n",
    "\\end{bmatrix}$$\n",
    "\n",
    "binary operations\n",
    "\n",
    "$$\\mathcal{O}_2 \\leftrightarrow \\texttt{Callable[[Series, Series], ExprSeries]}$$\n",
    "\n",
    "$$\\mathcal{O}_2(a(\\textbf{x},t), b(\\textbf{x},t)) \\leftrightarrow \\texttt{ExprSeries}$$\n",
    "\n",
    "$$\\mathcal{O}_2(a(\\textbf{x},t), b(\\textbf{x},t)) \\approx \n",
    "\\begin{bmatrix}\n",
    "\\mathcal{O}_2(a^{n+1}(\\textbf{x}), b^{n+1}(\\textbf{x})) \\\\\n",
    "\\mathcal{O}_2(a^n(\\textbf{x}), b^n(\\textbf{x})) \\\\\n",
    "\\mathcal{O}_2(a^{n-1}(\\textbf{x}), b^{n-1}(\\textbf{x})) \\\\\n",
    "\\vdots\n",
    "\\end{bmatrix}$$"
   ]
  },
  {
   "cell_type": "code",
   "execution_count": 2,
   "metadata": {},
   "outputs": [
    {
     "name": "stdout",
     "output_type": "stream",
     "text": [
      "<class 'lucifex.fdm.series.ExprSeries'>\n",
      "ExprSeries(a⁽⁻²⁾ * (1 + b⁽⁻²⁾) ** 2, a⁽⁻¹⁾ * (1 + b⁽⁻¹⁾) ** 2; Unsolved; Unsolved)\n"
     ]
    }
   ],
   "source": [
    "e = a * (1 + b)**2\n",
    "\n",
    "print(type(e))\n",
    "print(repr(e))"
   ]
  },
  {
   "cell_type": "markdown",
   "metadata": {},
   "source": [
    "`lucifex.fdm.ufl_operators` provides overloaded versions of the `ufl`'s `inner`, `grad` and `curl` operators, which can accept arguments of type `Series` in addition to their usual argument types."
   ]
  },
  {
   "cell_type": "markdown",
   "metadata": {},
   "source": [
    "## Finite difference operators"
   ]
  },
  {
   "cell_type": "code",
   "execution_count": null,
   "metadata": {},
   "outputs": [
    {
     "name": "stdout",
     "output_type": "stream",
     "text": [
      "\n",
      " Time derivative:\n",
      "(v_1 + -1.0 * a⁽⁰⁾) / 0.001\n",
      "v_1 + -1.0 * a⁽⁰⁾\n",
      "(v_1 + -1.0 * a⁽⁰⁾) / dt\n",
      "\n",
      " Adams-Bashforth explicit discretizations:\n",
      "a⁽⁰⁾\n",
      "1.5 * a⁽⁰⁾ + -0.5 * a⁽⁻¹⁾\n",
      "1.9166666666666667 * a⁽⁰⁾ + -1.3333333333333333 * a⁽⁻¹⁾ + 0.4166666666666667 * a⁽⁻²⁾\n",
      "\n",
      " Adams-Moulton implicit discretizations:\n",
      "v_1\n",
      "a⁽⁺¹⁾\n",
      "0.5 * v_1 + 0.5 * a⁽⁰⁾\n",
      "0.5 * a⁽⁺¹⁾ + 0.5 * a⁽⁰⁾\n",
      "0.4166666666666667 * v_1 + 0.6666666666666666 * a⁽⁰⁾ + -0.08333333333333333 * a⁽⁻¹⁾\n",
      "0.4166666666666667 * a⁽⁺¹⁾ + 0.6666666666666666 * a⁽⁰⁾ + -0.08333333333333333 * a⁽⁻¹⁾\n",
      "\n",
      " User-defined discretization:\n",
      "2.0 * a⁽⁰⁾ + -1.0 * a⁽⁻¹⁾\n"
     ]
    },
    {
     "ename": "",
     "evalue": "",
     "output_type": "error",
     "traceback": [
      "\u001b[1;31mThe Kernel crashed while executing code in the current cell or a previous cell. \n",
      "\u001b[1;31mPlease review the code in the cell(s) to identify a possible cause of the failure. \n",
      "\u001b[1;31mClick <a href='https://aka.ms/vscodeJupyterKernelCrash'>here</a> for more info. \n",
      "\u001b[1;31mView Jupyter <a href='command:jupyter.viewOutput'>log</a> for further details."
     ]
    }
   ],
   "source": [
    "print('\\n Time derivative:')\n",
    "dt = 0.001\n",
    "print(DT(a, dt))\n",
    "print(DT(a))\n",
    "dt = Constant(mesh, 0.001, name='dt')\n",
    "print(DT(a, dt))\n",
    "\n",
    "print('\\n Adams-Bashforth explicit discretizations:')\n",
    "for n in range(1, order + 1):\n",
    "    print(AB(n)(a))\n",
    "\n",
    "print('\\n Adams-Moulton implicit discretizations:')\n",
    "for n in range(1, order + 1):\n",
    "    print(AM(n)(a))\n",
    "    print(AM(n)(a, False))\n",
    "\n",
    "print('\\n User-defined discretization:')\n",
    "FD_user = FiniteDifference({0: 2.0, -1: -1.0}, init=AB(1))\n",
    "print(FD_user(a))"
   ]
  }
 ],
 "metadata": {
  "kernelspec": {
   "display_name": "lucifex",
   "language": "python",
   "name": "python3"
  },
  "language_info": {
   "codemirror_mode": {
    "name": "ipython",
    "version": 3
   },
   "file_extension": ".py",
   "mimetype": "text/x-python",
   "name": "python",
   "nbconvert_exporter": "python",
   "pygments_lexer": "ipython3",
   "version": "3.10.12"
  }
 },
 "nbformat": 4,
 "nbformat_minor": 2
}
