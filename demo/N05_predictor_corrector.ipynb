{
 "cells": [
  {
   "cell_type": "markdown",
   "id": "103487e0",
   "metadata": {},
   "source": [
    "# Predictor-corrector methods"
   ]
  },
  {
   "cell_type": "markdown",
   "id": "eb167a2f",
   "metadata": {},
   "source": [
    "initial-boundary value problem on $(\\textbf{x}, t)\\in\\Omega\\times[0,\\infty)$\n",
    "\n",
    "$$\\frac{\\partial u}{\\partial t}=\\mathcal{L}_{\\textbf{x}, u}(u,a(\\textbf{x},t))$$\n",
    "\n",
    "$$\\mathcal{L}_{\\textbf{x}, a}(a(\\textbf{x}, t), u)=0$$\n",
    "\n",
    "initial condition\n",
    "\n",
    "$$u(\\textbf{x}, t=0)=u_0(\\textbf{x})$$\n",
    "\n",
    "time discretization\n",
    "\n",
    "$$\\mathcal{L}_{\\textbf{x}, a}(a^n, u^n) = 0$$\n",
    "\n",
    "$$\\frac{u^* - u^n}{\\Delta t^n} = f(u^{n+1}, a^n)$$\n",
    "\n",
    "$$\\mathcal{L}_{\\textbf{x}, a}(a^*, u^{n+1}) = 0$$\n",
    "\n",
    "$$\\frac{u^{n+1} - u^n}{\\Delta t^n} = f(u^{n+1}, a^*)$$"
   ]
  },
  {
   "cell_type": "markdown",
   "id": "ad85825a",
   "metadata": {},
   "source": [
    "## Example\n",
    "\n",
    "$$\\mathcal{L}_{\\textbf{x}, u}(u, a) = -au + \\nabla^2 u$$\n",
    "\n",
    "$$\\mathcal{L}_{\\textbf{x}, a}(a, u) = \\nabla^2 a - \\cos(u)$$"
   ]
  }
 ],
 "metadata": {
  "kernelspec": {
   "display_name": "lucifex",
   "language": "python",
   "name": "python3"
  },
  "language_info": {
   "name": "python",
   "version": "3.10.12"
  }
 },
 "nbformat": 4,
 "nbformat_minor": 5
}
