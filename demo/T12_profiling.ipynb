{
 "cells": [
  {
   "cell_type": "markdown",
   "id": "6cad3a84",
   "metadata": {},
   "source": [
    "# Profiling execution times"
   ]
  },
  {
   "cell_type": "code",
   "execution_count": 1,
   "id": "8da70db1",
   "metadata": {},
   "outputs": [
    {
     "name": "stdout",
     "output_type": "stream",
     "text": [
      "a * b = 12\n",
      "{'sleep': [0.12826722199679352, 0.1269514189916663, 0.12415263000002597],\n",
      " 'sleepy_multiply': [0.32241151499329135,\n",
      "                     0.32516633698833175,\n",
      "                     0.32207836100133136]}\n"
     ]
    }
   ],
   "source": [
    "import pprint\n",
    "from time import sleep\n",
    "\n",
    "from ufl.core.expr import Expr\n",
    "from ufl import Form, inner, grad, dx, TestFunction, TrialFunction\n",
    "from lucifex.mesh import rectangle_mesh\n",
    "from lucifex.fem import LUCiFExFunction as Function, LUCiFExConstant as Constant\n",
    "from lucifex.solver import bvp_solver, projection_solver, interpolation_solver\n",
    "from lucifex.utils import log_texec\n",
    "from lucifex.viz import plot_bar\n",
    "\n",
    "\n",
    "def poisson(\n",
    "    u: Function,\n",
    "    f: Function | Constant | Expr,\n",
    ") -> tuple[Form, Form]:\n",
    "    v = TestFunction(u.function_space)\n",
    "    u_trial = TrialFunction(u.function_space)\n",
    "    F_lhs = -inner(grad(v), grad(u_trial)) * dx\n",
    "    F_rhs = -v * f * dx\n",
    "    return F_lhs, F_rhs\n",
    "\n",
    "def sleepy_multiply(a, b, t):\n",
    "    sleep(t)\n",
    "    return a * b\n",
    "\n",
    "texec = {}\n",
    "log_texec(sleep, texec, n=3)(0.123)\n",
    "a_times_b = log_texec(sleepy_multiply, texec, n=3)(3, 4, 0.321)\n",
    "\n",
    "print(f'a * b = {a_times_b}')\n",
    "pprint.pp(texec)"
   ]
  },
  {
   "cell_type": "markdown",
   "id": "1161164e",
   "metadata": {},
   "source": [
    "## Example: increasing mesh resolution"
   ]
  },
  {
   "cell_type": "code",
   "execution_count": 2,
   "id": "44a9e79b",
   "metadata": {},
   "outputs": [],
   "source": [
    "texec_poisson = {}\n",
    "\n",
    "n_solve = 3\n",
    "Nx = [int(2 ** i) for i in range(7)]\n",
    "for nx in Nx:\n",
    "    mesh = rectangle_mesh(1.0, 1.0, nx, nx)\n",
    "    u = Function((mesh, 'P', 1))\n",
    "    f = Constant(mesh, 1.0)\n",
    "    u_solver = bvp_solver(poisson, overwrite=True)(u, f)\n",
    "    key = f'poisson_Nx={nx}'\n",
    "    log_texec(u_solver.solve, texec_poisson, key, n=n_solve)()"
   ]
  },
  {
   "cell_type": "code",
   "execution_count": 3,
   "id": "7074acb9",
   "metadata": {},
   "outputs": [
    {
     "data": {
      "text/plain": [
       "(<Figure size 640x480 with 1 Axes>,\n",
       " <Axes: xlabel='$N_x$', ylabel='$t_{\\\\mathrm{exec}}$'>)"
      ]
     },
     "execution_count": 3,
     "metadata": {},
     "output_type": "execute_result"
    },
    {
     "data": {
      "image/png": "[encoded data removed]",
      "text/plain": [
       "<Figure size 640x480 with 1 Axes>"
      ]
     },
     "metadata": {},
     "output_type": "display_data"
    }
   ],
   "source": [
    "plot_bar((texec_poisson.values()), Nx, x_label='$N_x$', y_label='$t_{\\mathrm{exec}}$')"
   ]
  },
  {
   "cell_type": "markdown",
   "id": "1df930b5",
   "metadata": {},
   "source": [
    "## Example: caching assembled matrices"
   ]
  },
  {
   "cell_type": "code",
   "execution_count": 2,
   "id": "f80607b5",
   "metadata": {},
   "outputs": [
    {
     "name": "stdout",
     "output_type": "stream",
     "text": [
      "cache_matrix=False assembly_count=3\n",
      "cache_matrix=True assembly_count=1\n"
     ]
    }
   ],
   "source": [
    "texec_caching = {}\n",
    "\n",
    "n_solve = 3\n",
    "nx = 100\n",
    "mesh = rectangle_mesh(1.0, 1.0, nx, nx)\n",
    "cache_matrix = (False, True)\n",
    "for cm in cache_matrix:\n",
    "    u = Function((mesh, 'P', 1))\n",
    "    f = Constant(mesh, 1.0)\n",
    "    u_solver = bvp_solver(poisson, overwrite=True, cache_matrix=cm)(u, f)\n",
    "    key = f'poisson_Nx={nx}_cache={cm}'\n",
    "    log_texec(u_solver.solve, texec_caching, key, n=n_solve)()\n",
    "    print(\n",
    "        f'cache_matrix={cm}', \n",
    "        f\"assembly_count={u_solver.get_matrix().getAttr('assembly_count')}\",\n",
    "    )\n"
   ]
  },
  {
   "cell_type": "code",
   "execution_count": null,
   "id": "a491d034",
   "metadata": {},
   "outputs": [
    {
     "data": {
      "text/plain": [
       "(<Figure size 640x480 with 1 Axes>, <Axes: ylabel='$t_{\\\\mathrm{exec}}$'>)"
      ]
     },
     "execution_count": 3,
     "metadata": {},
     "output_type": "execute_result"
    },
    {
     "data": {
      "image/png": "[encoded data removed]",
      "text/plain": [
       "<Figure size 640x480 with 1 Axes>"
      ]
     },
     "metadata": {},
     "output_type": "display_data"
    },
    {
     "ename": "",
     "evalue": "",
     "output_type": "error",
     "traceback": [
      "\u001b[1;31mThe Kernel crashed while executing code in the current cell or a previous cell. \n",
      "\u001b[1;31mPlease review the code in the cell(s) to identify a possible cause of the failure. \n",
      "\u001b[1;31mClick <a href='https://aka.ms/vscodeJupyterKernelCrash'>here</a> for more info. \n",
      "\u001b[1;31mView Jupyter <a href='command:jupyter.viewOutput'>log</a> for further details."
     ]
    }
   ],
   "source": [
    "plot_bar((texec_caching.values()), cache_matrix, y_label='$t_{\\mathrm{exec}}$')"
   ]
  },
  {
   "cell_type": "markdown",
   "id": "c317d483",
   "metadata": {},
   "source": [
    "## Example: projection versus interpolation"
   ]
  },
  {
   "cell_type": "code",
   "execution_count": 4,
   "id": "14e054c5",
   "metadata": {},
   "outputs": [
    {
     "name": "stdout",
     "output_type": "stream",
     "text": [
      "{'projection': [0.014735492994077504,\n",
      "                0.0071695759979775175,\n",
      "                0.00739038000756409,\n",
      "                0.007949414997710846,\n",
      "                0.007336782000493258],\n",
      " 'interpolation': [0.0031785210012458265,\n",
      "                   0.0030294320022221655,\n",
      "                   0.002836772007867694,\n",
      "                   0.002301611006259918,\n",
      "                   0.002456510002957657]}\n"
     ]
    }
   ],
   "source": [
    "def exponentiate(a, b):\n",
    "    return a ** b\n",
    "\n",
    "texec_expn = {}\n",
    "\n",
    "n_solve = 5\n",
    "nx = 100\n",
    "mesh = rectangle_mesh(1.0, 1.0, nx, nx)\n",
    "a = Function((mesh, 'P', 1), lambda x: x[0] * x[1])\n",
    "b = Function((mesh, 'P', 1), lambda x: x[0])\n",
    "\n",
    "methods = ('projection', 'interpolation')\n",
    "for mthd in methods:\n",
    "    u = Function((mesh, 'P', 1))\n",
    "    if mthd == 'projection':\n",
    "        ab_solver = projection_solver(u, exponentiate, overwrite=True)(a, b)\n",
    "    elif mthd == 'interpolation':\n",
    "        ab_solver = interpolation_solver(u, exponentiate, overwrite=True)(a, b)\n",
    "    else:\n",
    "        raise ValueError\n",
    "    log_texec(ab_solver.solve, texec_expn, mthd, n=n_solve)()\n",
    "    \n",
    "pprint.pp(texec_expn)"
   ]
  },
  {
   "cell_type": "code",
   "execution_count": 5,
   "id": "f7d78042",
   "metadata": {},
   "outputs": [
    {
     "data": {
      "text/plain": [
       "(<Figure size 640x480 with 1 Axes>, <Axes: ylabel='$t_{\\\\mathrm{exec}}$'>)"
      ]
     },
     "execution_count": 5,
     "metadata": {},
     "output_type": "execute_result"
    },
    {
     "data": {
      "image/png": "[encoded data removed]",
      "text/plain": [
       "<Figure size 640x480 with 1 Axes>"
      ]
     },
     "metadata": {},
     "output_type": "display_data"
    }
   ],
   "source": [
    "plot_bar((texec_expn.values()), methods, y_label='$t_{\\mathrm{exec}}$')"
   ]
  }
 ],
 "metadata": {
  "kernelspec": {
   "display_name": "lucifex",
   "language": "python",
   "name": "python3"
  },
  "language_info": {
   "codemirror_mode": {
    "name": "ipython",
    "version": 3
   },
   "file_extension": ".py",
   "mimetype": "text/x-python",
   "name": "python",
   "nbconvert_exporter": "python",
   "pygments_lexer": "ipython3",
   "version": "3.10.12"
  }
 },
 "nbformat": 4,
 "nbformat_minor": 5
}
