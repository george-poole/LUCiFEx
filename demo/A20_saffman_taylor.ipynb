{
 "cells": [
  {
   "cell_type": "markdown",
   "id": "3fc65a00",
   "metadata": {},
   "source": [
    "# Saffman-Taylor instability"
   ]
  },
  {
   "cell_type": "markdown",
   "id": "e48135b9",
   "metadata": {},
   "source": [
    "Working in the frame of reference moving at the non-dimensionalised unit velocity $\\textbf{e}_U$ of the injected fluid.\n",
    "\n",
    "initial-boundary value problem on $(\\textbf{x}, t)\\in\\Omega\\times[0,\\infty)$\n",
    "\n",
    "$$\\phi\\frac{\\partial c}{\\partial t} + \\textbf{u}\\cdot\\nabla c = \\frac{1}{Pe}\\nabla\\cdot(\\mathsf{D}\\cdot\\nabla c)$$\n",
    "\n",
    "$$\\nabla\\cdot\\textbf{u}=0$$\n",
    "\n",
    "$$\\textbf{u}=-\\frac{\\mathsf{K}}{\\mu}\\cdot(\\nabla p + \\mu\\mathsf{K}^{-1}\\cdot\\textbf{e}_U)$$\n",
    "\n",
    "mapping to porous convection equations defined in `demo/py/porous_convection.py`\n",
    "\n",
    "$$\n",
    "\\begin{Bmatrix}\n",
    "\\phi \\\\\n",
    "Ra \\\\ \n",
    "\\mathsf{D} \\\\\n",
    "\\mathsf{K} \\\\\n",
    "\\mu \\\\\n",
    "\\rho \\\\ \n",
    "\\textbf{e}_g \n",
    "\\end{Bmatrix}\n",
    "\\mapsto\n",
    "\\begin{Bmatrix}\n",
    "\\phi \\\\\n",
    "Pe \\\\ \n",
    "\\mathsf{D} \\\\\n",
    "\\mathsf{K} \\\\\n",
    "\\mu \\\\\n",
    "\\mu \\\\\n",
    "\\mathsf{K}^{-1}\\cdot\\textbf{e}_U\n",
    "\\end{Bmatrix}\n",
    "$$"
   ]
  },
  {
   "cell_type": "markdown",
   "id": "8f2b43c0",
   "metadata": {},
   "source": [
    "## Example: $d=2$ rectangle\n",
    "\n",
    "$$\\Omega = [-L_x/2, L_x/2] \\times [0, L_y]$$\n",
    "\n",
    "$$\n",
    "\\begin{align*}\n",
    "\\phi &= 1 \\\\\n",
    "\\mathsf{D} &= \\mathsf{I} \\\\ \n",
    "\\mathsf{K} &= \\mathsf{I}\\\\ \n",
    "\\mu(c) &= \\exp(-\\Lambda c) \\\\\n",
    "\\end{align*}\n",
    "$$\n",
    "\n",
    "$$\\textbf{n}\\cdot\\textbf{u}\\vert_{x=-L_x/2,y}=-1$$\n",
    "\n",
    "$$\\textbf{n}\\cdot\\textbf{u}\\vert_{x=L_x/2,y}=1$$\n",
    "\n",
    "$$\\textbf{n}\\cdot\\textbf{u}\\vert_{x,y=0}=\\textbf{n}\\cdot\\textbf{u}\\vert_{x,y=L_y}=0$$\n",
    "\n",
    "$$\\implies\\psi\\vert_{x,y=0}=0~,~\\psi\\vert_{x,y=L_y}=-L_y~,~\\psi\\vert_{x=\\pm L_x/2,y}=0$$\n",
    "\n",
    "$$c_0(x,y)=\\frac{1}{2}\\left(1+\\text{erf}\\left(-\\frac{x}{\\epsilon L_x}\\right)\\right)+\\mathcal{N}(x,y)$$\n",
    "\n",
    "$$c(x=-L_x/2,y)=c(x=L_x/2,y)$$\n",
    "\n",
    "$$\\frac{\\partial c}{\\partial y}\\bigg\\vert_{x,y=0}=\\frac{\\partial c}{\\partial y}\\bigg\\vert_{x,y=L_y}=0$$\n",
    "\n",
    "$$\\textbf{e}_U=\\textbf{e}_x$$"
   ]
  },
  {
   "cell_type": "code",
   "execution_count": 2,
   "id": "f446baac",
   "metadata": {},
   "outputs": [],
   "source": [
    "import scipy.special as sp\n",
    "\n",
    "from lucifex.mesh import rectangle_mesh, mesh_boundary\n",
    "from lucifex.fdm import FiniteDifference, AB2, CN\n",
    "from lucifex.fdm.ufl_operators import exp\n",
    "from lucifex.fem import LUCiFExConstant as Constant\n",
    "from lucifex.solver import BoundaryConditions\n",
    "from lucifex.sim import integrate, configure_simulation\n",
    "from lucifex.utils import CellType, SpatialPerturbation, sinusoid_noise\n",
    "from lucifex.viz import plot_colormap\n",
    "from lucifex.io import write\n",
    "\n",
    "from py.porous_convection import porous_convection_simulation\n",
    "\n",
    "\n",
    "@configure_simulation(\n",
    "    store_step=1,\n",
    "    write_step=None,\n",
    ")\n",
    "def saffman_taylor_rectangle(\n",
    "    Lx: float = 2.0,\n",
    "    Ly: float = 1.0,\n",
    "    Nx: int = 100,\n",
    "    Ny: int = 100,\n",
    "    cell: str = CellType.QUADRILATERAL,\n",
    "    Pe: float = 5e2,\n",
    "    Lmbda: float = 1e1,\n",
    "    erf_eps: float = 1e-2,\n",
    "    c_eps: float = 1e-6,\n",
    "    c_freq: tuple[int, int] = (8, 8),\n",
    "    dt_max: float = 0.25,\n",
    "    cfl_h: str | float = \"hmin\",\n",
    "    cfl_courant: float = 0.25,\n",
    "    D_adv: FiniteDifference | tuple[FiniteDifference, FiniteDifference] = (AB2, CN),\n",
    "    D_diff: FiniteDifference = CN,\n",
    "):\n",
    "    Omega = rectangle_mesh(\n",
    "        (-0.5 * Lx, 0.5 * Lx), \n",
    "        (0, Ly), \n",
    "        Nx, \n",
    "        Ny, \n",
    "        cell=cell,\n",
    "    )\n",
    "    dOmega = mesh_boundary(\n",
    "        Omega,\n",
    "        {\n",
    "            \"left\": lambda x: x[0] + 0.5 * Lx,\n",
    "            \"right\": lambda x: x[0] - 0.5 * Lx,\n",
    "            \"lower\": lambda x: x[1],\n",
    "            \"upper\": lambda x: x[1] - Ly,\n",
    "        },\n",
    "    )\n",
    "    c_bcs = BoundaryConditions(\n",
    "        (\"neumann\", dOmega.union, 0.0),\n",
    "    )\n",
    "    c_ics = SpatialPerturbation(\n",
    "        lambda x: 0.5 * (1.0 + sp.erf(x[0] / (Lx * erf_eps))),\n",
    "        sinusoid_noise(['neumann', 'neumann'], [Lx, Ly], c_freq),\n",
    "        [Lx, Ly],\n",
    "        c_eps,\n",
    "    ) \n",
    "    psi_bcs = BoundaryConditions(\n",
    "        (\"dirichlet\", dOmega['lower'], 0.0),\n",
    "        (\"dirichlet\", dOmega['upper'], -Ly),\n",
    "        (\"dirichlet\", dOmega['left', 'right'], lambda x: -x[1]),\n",
    "    )\n",
    "    Lmbda = Constant(Omega, Lmbda, 'Lmbda')\n",
    "    viscosity = lambda c: exp(-Lmbda * c)\n",
    "\n",
    "    simulation = porous_convection_simulation(\n",
    "        Omega=Omega, \n",
    "        dOmega=dOmega, \n",
    "        egx=1,\n",
    "        egy=None,\n",
    "        Ra=Pe,\n",
    "        density=viscosity,\n",
    "        viscosity=viscosity,\n",
    "        c_ics=c_ics, \n",
    "        c_bcs=c_bcs, \n",
    "        psi_bcs=psi_bcs,\n",
    "        dt_max=dt_max, \n",
    "        cfl_h=cfl_h, \n",
    "        cfl_courant=cfl_courant,\n",
    "        D_adv=D_adv,\n",
    "        D_diff=D_diff,\n",
    "    )\n",
    "    return simulation\n",
    "\n",
    "\n",
    "simulation = saffman_taylor_rectangle(\n",
    "    Lx=5.0,\n",
    "    Ly=1.0,\n",
    "    Nx=160,\n",
    "    Ny=80,\n",
    "    cell='quadrilateral', \n",
    "    Pe=100.0,\n",
    "    Lmbda=5.0, \n",
    "    D_adv=AB2,\n",
    "    D_diff=CN,\n",
    ")"
   ]
  },
  {
   "cell_type": "code",
   "execution_count": 3,
   "id": "80ffe3aa",
   "metadata": {},
   "outputs": [],
   "source": [
    "n_stop = 200\n",
    "dt_init = 1e-6\n",
    "n_init = 5\n",
    "integrate(simulation, n_stop=n_stop, dt_init=dt_init, n_init=n_init)"
   ]
  },
  {
   "cell_type": "code",
   "execution_count": 5,
   "id": "f508f88f",
   "metadata": {},
   "outputs": [
    {
     "data": {
      "image/png": "[encoded data removed]",
      "text/plain": [
       "<Figure size 640x480 with 2 Axes>"
      ]
     },
     "metadata": {},
     "output_type": "display_data"
    },
    {
     "data": {
      "image/png": "[encoded data removed]",
      "text/plain": [
       "<Figure size 640x480 with 2 Axes>"
      ]
     },
     "metadata": {},
     "output_type": "display_data"
    },
    {
     "data": {
      "image/png": "[encoded data removed]",
      "text/plain": [
       "<Figure size 640x480 with 2 Axes>"
      ]
     },
     "metadata": {},
     "output_type": "display_data"
    },
    {
     "data": {
      "image/png": "[encoded data removed]",
      "text/plain": [
       "<Figure size 640x480 with 2 Axes>"
      ]
     },
     "metadata": {},
     "output_type": "display_data"
    }
   ],
   "source": [
    "c, psi = simulation['c', 'psi']\n",
    "\n",
    "i_qrt = int(0.25 * len(c.series))\n",
    "i_mid = int(0.5 * len(c.series))\n",
    "time_indices = (0, i_qrt, i_mid, -1)\n",
    "for i in time_indices:\n",
    "    fig, ax = plot_colormap(c.series[i], title=f'$c(t={c.time_series[i]:.2f})$')\n",
    "    write(\n",
    "        fig, \n",
    "        f'A20_saffman_taylor_c(t={c.time_series[i]:.2f})', \n",
    "        './figures', \n",
    "        file_ext=['pdf', 'png'], \n",
    "        close=False, \n",
    "        pickle=False,\n",
    "    )"
   ]
  }
 ],
 "metadata": {
  "kernelspec": {
   "display_name": "lucifex",
   "language": "python",
   "name": "python3"
  },
  "language_info": {
   "codemirror_mode": {
    "name": "ipython",
    "version": 3
   },
   "file_extension": ".py",
   "mimetype": "text/x-python",
   "name": "python",
   "nbconvert_exporter": "python",
   "pygments_lexer": "ipython3",
   "version": "3.10.12"
  }
 },
 "nbformat": 4,
 "nbformat_minor": 5
}
