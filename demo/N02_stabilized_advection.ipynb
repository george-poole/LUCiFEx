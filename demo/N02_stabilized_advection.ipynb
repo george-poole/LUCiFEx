{
 "cells": [
  {
   "cell_type": "markdown",
   "id": "37170283",
   "metadata": {},
   "source": [
    "$\\textbf{x}\\in\\Omega$\n",
    "\n",
    "$$\\frac{\\partial u}{\\partial t}+\\textbf{a}\\cdot\\nabla u = s$$\n",
    "\n",
    "$\\textbf{x}\\in\\partial\\Omega_I$ inflow boundary condition\n",
    "\n",
    "$$u = u_I$$\n",
    "\n",
    "CG formulation\n",
    "\n",
    "$$\\int_\\Omega\\text{d}x~v\\frac{\\partial u}{\\partial t} + v\\,\\textbf{a}\\cdot\\nabla u - vs=0 \\quad\\forall v\\in V_{\\text{P}}$$\n",
    "\n",
    "$$\\int_\\Omega~\\text{d}x~v\\frac{u^{n+1} - u^n}{\\Delta t} + v\\,\\textbf{a}\\cdot\\nabla\\mathcal{D}(u) - vs=0 \\quad\\forall v\\in V_{\\text{P}}$$\n",
    "\n",
    "DG formulation\n",
    "\n",
    "$$\\int_\\Omega\\text{d}x~v\\frac{\\partial u}{\\partial t} - u\\nabla\\cdot(v\\textbf{a}) - vs + \\int_{\\mathcal{F}}\\text{d}S~\\llbracket v\\rrbracket\\,\\llbracket u\\max(\\textbf{a}\\cdot\\textbf{n}, 0)\\rrbracket + \\int_{\\partial\\Omega_I}\\text{d}s~vu_I\\,\\textbf{a}\\cdot\\textbf{n} + \\int_{\\partial\\Omega/\\partial\\Omega_I}\\text{d}s~vu\\,\\textbf{a}\\cdot\\textbf{n} = 0 \\quad\\forall v\\in V_{\\text{DP}}$$\n",
    "\n",
    "$$\\int_\\Omega\\text{d}x~v\\frac{u^{n+1} - u^n}{\\Delta t} - \\mathcal{D}(u)\\nabla\\cdot(v\\textbf{a}) - vs + \\int_{\\mathcal{F}}\\text{d}S~\\llbracket v\\rrbracket\\,\\llbracket \\mathcal{D}(u)\\max(\\textbf{a}\\cdot\\textbf{n}, 0)\\rrbracket + \\int_{\\partial\\Omega_I}\\text{d}s~vu_I\\,\\textbf{a}\\cdot\\textbf{n} + \\int_{\\partial\\Omega/\\partial\\Omega_I}\\text{d}s~v\\mathcal{D}(u)\\,\\textbf{a}\\cdot\\textbf{n} = 0 \\quad\\forall v\\in V_{\\text{DP}}$$"
   ]
  },
  {
   "cell_type": "code",
   "execution_count": null,
   "id": "6cf92c13",
   "metadata": {},
   "outputs": [],
   "source": [
    "import numpy as np\n",
    "from ufl import Form, dx, dS, inner, grad, div, jump, TestFunction, conditional, lt, FacetNormal\n",
    "\n",
    "from lucifex.mesh import interval_mesh\n",
    "from lucifex.fem import LUCiFExFunction as Function, LUCiFExConstant as Constant\n",
    "from lucifex.fdm import (DT, CN, BE, FE, \n",
    "    FiniteDifference, FunctionSeries, ConstantSeries,\n",
    "    cfl_timestep)\n",
    "from lucifex.solver import ibvp_solver , BoundaryConditions, InitialBoundaryValueProblem\n",
    "from lucifex.sim import integrate, Simulation\n",
    "from lucifex.viz import plot_line\n",
    "\n",
    "\n",
    "def advection(\n",
    "    u: FunctionSeries,\n",
    "    Dfdm: FiniteDifference,\n",
    "    dt: Constant,\n",
    "    a: Function | Constant,\n",
    "    s: Function | Constant | None = None,\n",
    ") -> list[Form]:\n",
    "    v = TestFunction(u.function_space)\n",
    "    Ft = v * DT(u, dt) * dx\n",
    "    Fa = v * inner(a, grad(Dfdm(u))) * dx\n",
    "    forms = [Fa, Ft]\n",
    "    if s is not None:\n",
    "        Fs = -v * s * dx\n",
    "        forms.append(Fs)\n",
    "    return forms\n",
    "\n",
    "\n",
    "def advection_dg(\n",
    "    u: FunctionSeries,\n",
    "    Dfdm: FiniteDifference,\n",
    "    dt: Constant,\n",
    "    a: Function | Constant,\n",
    "    s: Function | Constant | None = None,\n",
    "    bcs: BoundaryConditions | None = None,\n",
    ") -> list[Form]:\n",
    "    v = TestFunction(u.function_space)\n",
    "    n = FacetNormal(u.function_space.mesh)\n",
    "\n",
    "    Ft = v * DT(u, dt) * dx\n",
    "\n",
    "    aOut = 0.5 * (inner(a, n) + abs(inner(a, n)))\n",
    "    Fa_dx = - Dfdm(u) * div(v * a) * dx\n",
    "    Fa_dS = jump(v) * jump(aOut * Dfdm(u)) * dS\n",
    "\n",
    "    forms = [Fa_dx, Fa_dS, Ft]\n",
    "\n",
    "    if s is not None:\n",
    "        Fs = -v * s * dx\n",
    "        forms.append(Fs)\n",
    "    if bcs is not None:\n",
    "        ds, inflow_data = bcs.boundary_data(u.function_space, 'dirichlet')\n",
    "        inflow = lambda uI: conditional(lt(inner(a, n), 0), uI, 0)\n",
    "        F_inflow = sum([v * inner(a, n) * inflow(uI) * ds(i) for i, uI in inflow_data])\n",
    "        ds_outflow = ds(len(inflow_data))\n",
    "        F_outflow = v * inner(a, n) * Dfdm(u) * ds_outflow\n",
    "        forms.extend([F_inflow, F_outflow])\n",
    "\n",
    "    return forms"
   ]
  },
  {
   "cell_type": "markdown",
   "id": "49c10507",
   "metadata": {},
   "source": [
    "### $d=1$\n",
    "\n",
    "$$\\Omega = [0, L_x]$$\n",
    "$$\\textbf{a}=a\\,\\textbf{e}_x$$\n",
    "$$s = 1$$\n"
   ]
  },
  {
   "cell_type": "code",
   "execution_count": 5,
   "id": "bb0f4462",
   "metadata": {},
   "outputs": [
    {
     "name": "stderr",
     "output_type": "stream",
     "text": [
      "INFO:root:running build_ext\n",
      "INFO:root:building 'libffcx_forms_0995e7a240dcb0929c8d2f8cfeca061f633e918d' extension\n",
      "INFO:root:clang -Wno-unused-result -Wsign-compare -Wunreachable-code -DNDEBUG -fwrapv -O2 -Wall -fPIC -O2 -isystem /Users/George/miniconda3/envs/lucifex/include -fPIC -O2 -isystem /Users/George/miniconda3/envs/lucifex/include -I/Users/George/miniconda3/envs/lucifex/lib/python3.10/site-packages/ffcx/codegeneration -I/Users/George/miniconda3/envs/lucifex/include/python3.10 -c libffcx_forms_0995e7a240dcb0929c8d2f8cfeca061f633e918d.c -o ./libffcx_forms_0995e7a240dcb0929c8d2f8cfeca061f633e918d.o -O2 -g0\n",
      "INFO:root:clang -bundle -undefined dynamic_lookup -Wl,-rpath,/Users/George/miniconda3/envs/lucifex/lib -L/Users/George/miniconda3/envs/lucifex/lib -Wl,-rpath,/Users/George/miniconda3/envs/lucifex/lib -L/Users/George/miniconda3/envs/lucifex/lib ./libffcx_forms_0995e7a240dcb0929c8d2f8cfeca061f633e918d.o -o ./libffcx_forms_0995e7a240dcb0929c8d2f8cfeca061f633e918d.cpython-310-darwin.so\n",
      "INFO:root:running build_ext\n",
      "INFO:root:building 'libffcx_forms_f072811d7cc9be25d4166eda55538a2e86fbf6bc' extension\n",
      "INFO:root:clang -Wno-unused-result -Wsign-compare -Wunreachable-code -DNDEBUG -fwrapv -O2 -Wall -fPIC -O2 -isystem /Users/George/miniconda3/envs/lucifex/include -fPIC -O2 -isystem /Users/George/miniconda3/envs/lucifex/include -I/Users/George/miniconda3/envs/lucifex/lib/python3.10/site-packages/ffcx/codegeneration -I/Users/George/miniconda3/envs/lucifex/include/python3.10 -c libffcx_forms_f072811d7cc9be25d4166eda55538a2e86fbf6bc.c -o ./libffcx_forms_f072811d7cc9be25d4166eda55538a2e86fbf6bc.o -O2 -g0\n",
      "INFO:root:clang -bundle -undefined dynamic_lookup -Wl,-rpath,/Users/George/miniconda3/envs/lucifex/lib -L/Users/George/miniconda3/envs/lucifex/lib -Wl,-rpath,/Users/George/miniconda3/envs/lucifex/lib -L/Users/George/miniconda3/envs/lucifex/lib ./libffcx_forms_f072811d7cc9be25d4166eda55538a2e86fbf6bc.o -o ./libffcx_forms_f072811d7cc9be25d4166eda55538a2e86fbf6bc.cpython-310-darwin.so\n"
     ]
    }
   ],
   "source": [
    "Lx = 1.0\n",
    "Nx = 200\n",
    "\n",
    "def advection_simulation_1d(\n",
    "    element: tuple[str, int],\n",
    "    Lx: float,\n",
    "    Nx: int,    \n",
    "    bcs: float,\n",
    "    x0: float,\n",
    "    Dfdm: FiniteDifference,\n",
    "    dt: float,\n",
    "    a: float,\n",
    "    s: float,\n",
    ") -> InitialBoundaryValueProblem:\n",
    "    mesh = interval_mesh(Lx, Nx)\n",
    "\n",
    "    t = ConstantSeries(mesh, name='t', ics=0.0)\n",
    "    dt = Constant(mesh, dt, name='dt')\n",
    "    a = Constant(mesh, (a, ), name='a')\n",
    "\n",
    "    u = FunctionSeries((mesh, *element), name='u', store=1)\n",
    "\n",
    "    ics = lambda x: 1.0 * (x[0] <= x0) \n",
    "    bcs = BoundaryConditions(\n",
    "        ('dirichlet', lambda x: x[0], bcs),\n",
    "    )\n",
    "\n",
    "    if element == ('P', 1):\n",
    "        u_solver = ibvp_solver(advection, ics, bcs)(u, Dfdm, dt, a, s)\n",
    "    elif element == ('DP', 0):\n",
    "        u_solver = ibvp_solver(advection_dg, ics)(u, Dfdm, dt, a, s, bcs)\n",
    "    else:\n",
    "        raise ValueError\n",
    "\n",
    "    return Simulation([u_solver], t, dt)\n",
    "\n",
    "\n",
    "Lx = 1.0\n",
    "Nx = 200\n",
    "h = Lx / Nx\n",
    "bcs = 1.0\n",
    "x0 = 0.1 * Lx\n",
    "\n",
    "a = 1.0\n",
    "s = None\n",
    "courant = 0.75\n",
    "dt = cfl_timestep(a, h, 1.0)\n",
    "\n",
    "sim_1d = lambda elem, fdm: advection_simulation_1d(elem, Lx, Nx, bcs, x0, fdm, dt, a, s)\n",
    "\n",
    "elem_fdm = [\n",
    "    (('P', 1), CN),\n",
    "    (('P', 1), BE),\n",
    "    (('DP', 0), BE),\n",
    "    (('DP', 0), FE),\n",
    "]\n",
    "simulations: dict[str, Simulation] = {\n",
    "    f'{e[0]}{e[1]} {f}': sim_1d(e, f) for e, f in elem_fdm\n",
    "}\n",
    "\n",
    "n_stop = 30\n",
    "[integrate(sim, n_stop=n_stop) for sim in simulations.values()]\n",
    "\n",
    "results: dict[str, FunctionSeries] = {\n",
    "    k: v['u'] for k, v in simulations.items()\n",
    "}"
   ]
  },
  {
   "cell_type": "code",
   "execution_count": null,
   "id": "595b70c7",
   "metadata": {},
   "outputs": [
    {
     "data": {
      "text/plain": [
       "(<Figure size 640x480 with 1 Axes>, <Axes: xlabel='$x$', ylabel='$u$'>)"
      ]
     },
     "execution_count": 6,
     "metadata": {},
     "output_type": "execute_result"
    },
    {
     "data": {
      "image/png": "[encoded data removed]",
      "text/plain": [
       "<Figure size 640x480 with 1 Axes>"
      ]
     },
     "metadata": {},
     "output_type": "display_data"
    },
    {
     "ename": "",
     "evalue": "",
     "output_type": "error",
     "traceback": [
      "\u001b[1;31mThe Kernel crashed while executing code in the current cell or a previous cell. \n",
      "\u001b[1;31mPlease review the code in the cell(s) to identify a possible cause of the failure. \n",
      "\u001b[1;31mClick <a href='https://aka.ms/vscodeJupyterKernelCrash'>here</a> for more info. \n",
      "\u001b[1;31mView Jupyter <a href='command:jupyter.viewOutput'>log</a> for further details."
     ]
    }
   ],
   "source": [
    "def exact_1d(\n",
    "    x: np.ndarray, \n",
    "    t: float, \n",
    "    a: float,\n",
    "    x0: float\n",
    ") -> np.ndarray:\n",
    "    u = np.zeros_like(x)\n",
    "    u[x < x0 + a * t] = 1.0 \n",
    "    return u\n",
    "\n",
    "time_index = -1\n",
    "times = [u.time_series[time_index] for u in results.values()]\n",
    "assert all(np.isclose(t, times[0]) for t in times)\n",
    "t = times[0]\n",
    "\n",
    "x = np.linspace(0, Lx, num=500)\n",
    "exact = exact_1d(x, t, a, x0)\n",
    "\n",
    "legend_labels = ['exact', *results.keys()]\n",
    "lines = [(x, exact), *(u.series[time_index] for u in results.values())]\n",
    "plot_line(lines, legend_labels, x_label='$x$', y_label='$u$')"
   ]
  },
  {
   "cell_type": "markdown",
   "id": "6d81fccf",
   "metadata": {},
   "source": [
    "### $d=2$\n",
    "\n",
    "$$\\Omega = [0, L_x] \\times [0, L_y]$$\n",
    "\n",
    "$$\\textbf{a} = \\begin{pmatrix}\n",
    "\\sin(\\pi x / L_x)\\cos(\\pi y / L_y) \\\\\n",
    "-\\cos(\\pi x / L_x)\\sin(\\pi y / L_y)\n",
    "\\end{pmatrix}$$"
   ]
  },
  {
   "cell_type": "code",
   "execution_count": null,
   "id": "78c72536",
   "metadata": {},
   "outputs": [],
   "source": []
  }
 ],
 "metadata": {
  "kernelspec": {
   "display_name": "lucifex",
   "language": "python",
   "name": "python3"
  },
  "language_info": {
   "codemirror_mode": {
    "name": "ipython",
    "version": 3
   },
   "file_extension": ".py",
   "mimetype": "text/x-python",
   "name": "python",
   "nbconvert_exporter": "python",
   "pygments_lexer": "ipython3",
   "version": "3.10.12"
  }
 },
 "nbformat": 4,
 "nbformat_minor": 5
}
