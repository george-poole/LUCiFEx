{
 "cells": [
  {
   "cell_type": "markdown",
   "id": "6bf173fa",
   "metadata": {},
   "source": [
    "# Mesh convergence \\& method of manufactured solutions"
   ]
  },
  {
   "cell_type": "markdown",
   "id": "de2588c3",
   "metadata": {},
   "source": [
    "boundary value problem on $\\textbf{x}\\in\\Omega$\n",
    "\n",
    "$$\\nabla^2 u = f(\\textbf{x})$$\n",
    "\n",
    "manufactured solution\n",
    "\n",
    "$$u_{\\text{e}}(\\textbf{x})\\implies f=\\nabla^2u_{\\text{e}}~,~u_{\\text{D}}=u_{\\text{e}}~,~\\partial\\Omega_{\\text{D}}=\\partial\\Omega$$"
   ]
  }
 ],
 "metadata": {
  "kernelspec": {
   "display_name": "lucifex",
   "language": "python",
   "name": "python3"
  },
  "language_info": {
   "codemirror_mode": {
    "name": "ipython",
    "version": 3
   },
   "file_extension": ".py",
   "mimetype": "text/x-python",
   "name": "python",
   "nbconvert_exporter": "python",
   "pygments_lexer": "ipython3",
   "version": "3.10.12"
  }
 },
 "nbformat": 4,
 "nbformat_minor": 5
}
