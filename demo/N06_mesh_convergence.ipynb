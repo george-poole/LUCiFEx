{
 "cells": [
  {
   "cell_type": "markdown",
   "id": "6bf173fa",
   "metadata": {},
   "source": [
    "# Mesh convergence \\& method of manufactured solutions"
   ]
  },
  {
   "cell_type": "markdown",
   "id": "de2588c3",
   "metadata": {},
   "source": [
    "boundary value problem on $\\textbf{x}\\in\\Omega$\n",
    "\n",
    "$$\\nabla^2 u = f(\\textbf{x})$$\n",
    "\n",
    "manufactured solution\n",
    "\n",
    "$$u_{\\text{e}}(\\textbf{x})\\implies f=\\nabla^2u_{\\text{e}}~,~u_{\\text{D}}=u_{\\text{e}}~,~\\partial\\Omega_{\\text{D}}=\\partial\\Omega$$"
   ]
  },
  {
   "cell_type": "code",
   "execution_count": 1,
   "id": "4cd8d4ea",
   "metadata": {},
   "outputs": [],
   "source": [
    "import numpy as np\n",
    "from ufl.core.expr import Expr\n",
    "from ufl import Form, inner, grad, dx, TestFunction, TrialFunction, SpatialCoordinate, Dx\n",
    "from dolfinx.fem import FunctionSpace\n",
    "\n",
    "from lucifex.mesh import rectangle_mesh, mesh_boundary\n",
    "from lucifex.fem import LUCiFExFunction as Function, LUCiFExConstant as Constant\n",
    "from lucifex.solver import bvp_solver, BoundaryConditions, dx_solver, eval_solver\n",
    "from lucifex.viz import plot_colormap, plot_line\n",
    "from lucifex.utils import set_fem_function, L_norm, l_norm\n",
    "\n",
    "\n",
    "def poisson(\n",
    "    u: Function,\n",
    "    f: Function | Constant | Expr,\n",
    ") -> tuple[Form, Form]:\n",
    "    v = TestFunction(u.function_space)\n",
    "    u_trial = TrialFunction(u.function_space)\n",
    "    F_lhs = -inner(grad(v), grad(u_trial)) * dx\n",
    "    F_rhs = -v * f * dx\n",
    "    return F_lhs, F_rhs\n",
    "\n",
    "\n",
    "def compute_error_norm(\n",
    "    Nx: int,\n",
    ") -> tuple[float, ...]:\n",
    "    Lx = 1.0\n",
    "    h = Lx / Nx\n",
    "    mesh = rectangle_mesh(Lx, Lx, Nx, Nx)\n",
    "    boundary = mesh_boundary(\n",
    "        mesh, \n",
    "        {\n",
    "            \"left\": lambda x: x[0],\n",
    "            \"right\": lambda x: x[0] - Lx,\n",
    "            \"lower\": lambda x: x[1],\n",
    "            \"upper\": lambda x: x[1] - Lx,\n",
    "        },\n",
    "        complete=True,\n",
    "    )\n",
    "    fs = FunctionSpace(mesh, ('P', 1))\n",
    "    fs_higher = FunctionSpace(mesh, ('P', 4)) # FIXME\n",
    "\n",
    "    x = SpatialCoordinate(mesh)\n",
    "    ue = 1 + x[0] + x[1] **2\n",
    "    bcs = BoundaryConditions(\n",
    "        (\"dirichlet\", boundary.union, ue),\n",
    "    )\n",
    "    f = Dx(ue, 0, 0) + Dx(ue, 1, 1)\n",
    "    u = Function(fs, name='u')\n",
    "    u_solver = bvp_solver(poisson, bcs)(u, f)\n",
    "    u_solver.solve()\n",
    "\n",
    "    e = Function(fs, name='e')\n",
    "    set_fem_function(e, ue - u)\n",
    "\n",
    "    l2_norm = Constant(mesh, name='e_l2')\n",
    "    l2_solver = eval_solver(l2_norm, l_norm)(e, 2.0)\n",
    "    l2_solver.solve()\n",
    "\n",
    "    L2_norm = Constant(mesh, name='e_L2')\n",
    "    L2_solver = dx_solver(L2_norm, L_norm)(e, 2.0)\n",
    "    L2_solver.solve()\n",
    "\n",
    "    return h, float(l2_norm), float(L2_norm)\n"
   ]
  },
  {
   "cell_type": "code",
   "execution_count": 2,
   "id": "36fe44e1",
   "metadata": {},
   "outputs": [
    {
     "name": "stderr",
     "output_type": "stream",
     "text": [
      "INFO:root:running build_ext\n",
      "INFO:root:building 'libffcx_forms_2af0723ab76e1be9c7b76c8f28b32d8239b73801' extension\n",
      "INFO:root:clang -Wno-unused-result -Wsign-compare -Wunreachable-code -DNDEBUG -fwrapv -O2 -Wall -fPIC -O2 -isystem /Users/George/miniconda3/envs/lucifex/include -fPIC -O2 -isystem /Users/George/miniconda3/envs/lucifex/include -I/Users/George/miniconda3/envs/lucifex/lib/python3.10/site-packages/ffcx/codegeneration -I/Users/George/miniconda3/envs/lucifex/include/python3.10 -c libffcx_forms_2af0723ab76e1be9c7b76c8f28b32d8239b73801.c -o ./libffcx_forms_2af0723ab76e1be9c7b76c8f28b32d8239b73801.o -O2 -g0\n",
      "INFO:root:clang -bundle -undefined dynamic_lookup -Wl,-rpath,/Users/George/miniconda3/envs/lucifex/lib -L/Users/George/miniconda3/envs/lucifex/lib -Wl,-rpath,/Users/George/miniconda3/envs/lucifex/lib -L/Users/George/miniconda3/envs/lucifex/lib ./libffcx_forms_2af0723ab76e1be9c7b76c8f28b32d8239b73801.o -o ./libffcx_forms_2af0723ab76e1be9c7b76c8f28b32d8239b73801.cpython-310-darwin.so\n",
      "INFO:root:running build_ext\n",
      "INFO:root:building 'libffcx_expressions_a44eede0acf912c8f1760383f9f70e8da15bfa83' extension\n",
      "INFO:root:clang -Wno-unused-result -Wsign-compare -Wunreachable-code -DNDEBUG -fwrapv -O2 -Wall -fPIC -O2 -isystem /Users/George/miniconda3/envs/lucifex/include -fPIC -O2 -isystem /Users/George/miniconda3/envs/lucifex/include -I/Users/George/miniconda3/envs/lucifex/lib/python3.10/site-packages/ffcx/codegeneration -I/Users/George/miniconda3/envs/lucifex/include/python3.10 -c libffcx_expressions_a44eede0acf912c8f1760383f9f70e8da15bfa83.c -o ./libffcx_expressions_a44eede0acf912c8f1760383f9f70e8da15bfa83.o -O2 -g0\n",
      "INFO:root:clang -bundle -undefined dynamic_lookup -Wl,-rpath,/Users/George/miniconda3/envs/lucifex/lib -L/Users/George/miniconda3/envs/lucifex/lib -Wl,-rpath,/Users/George/miniconda3/envs/lucifex/lib -L/Users/George/miniconda3/envs/lucifex/lib ./libffcx_expressions_a44eede0acf912c8f1760383f9f70e8da15bfa83.o -o ./libffcx_expressions_a44eede0acf912c8f1760383f9f70e8da15bfa83.cpython-310-darwin.so\n",
      "INFO:root:running build_ext\n",
      "INFO:root:building 'libffcx_forms_0a80c344489955b60d8a87bff3132d1c7014098c' extension\n",
      "INFO:root:clang -Wno-unused-result -Wsign-compare -Wunreachable-code -DNDEBUG -fwrapv -O2 -Wall -fPIC -O2 -isystem /Users/George/miniconda3/envs/lucifex/include -fPIC -O2 -isystem /Users/George/miniconda3/envs/lucifex/include -I/Users/George/miniconda3/envs/lucifex/lib/python3.10/site-packages/ffcx/codegeneration -I/Users/George/miniconda3/envs/lucifex/include/python3.10 -c libffcx_forms_0a80c344489955b60d8a87bff3132d1c7014098c.c -o ./libffcx_forms_0a80c344489955b60d8a87bff3132d1c7014098c.o -O2 -g0\n",
      "INFO:root:clang -bundle -undefined dynamic_lookup -Wl,-rpath,/Users/George/miniconda3/envs/lucifex/lib -L/Users/George/miniconda3/envs/lucifex/lib -Wl,-rpath,/Users/George/miniconda3/envs/lucifex/lib -L/Users/George/miniconda3/envs/lucifex/lib ./libffcx_forms_0a80c344489955b60d8a87bff3132d1c7014098c.o -o ./libffcx_forms_0a80c344489955b60d8a87bff3132d1c7014098c.cpython-310-darwin.so\n"
     ]
    }
   ],
   "source": [
    "Nx = (10, 50, 80, 100)\n",
    "\n",
    "l2_results = {}\n",
    "L2_results = {}\n",
    "\n",
    "for nx in Nx:\n",
    "    h, l2_norm, L2_norm = compute_error_norm(nx)\n",
    "    l2_results[h] = l2_norm\n",
    "    L2_results[h] = L2_norm\n",
    "\n"
   ]
  },
  {
   "cell_type": "code",
   "execution_count": null,
   "id": "1c58d143",
   "metadata": {},
   "outputs": [
    {
     "data": {
      "image/png": "[encoded data removed]",
      "text/plain": [
       "<Figure size 640x480 with 1 Axes>"
      ]
     },
     "metadata": {},
     "output_type": "display_data"
    },
    {
     "ename": "",
     "evalue": "",
     "output_type": "error",
     "traceback": [
      "\u001b[1;31mThe Kernel crashed while executing code in the current cell or a previous cell. \n",
      "\u001b[1;31mPlease review the code in the cell(s) to identify a possible cause of the failure. \n",
      "\u001b[1;31mClick <a href='https://aka.ms/vscodeJupyterKernelCrash'>here</a> for more info. \n",
      "\u001b[1;31mView Jupyter <a href='command:jupyter.viewOutput'>log</a> for further details."
     ]
    }
   ],
   "source": [
    "h_arr = np.array(list(l2_results.keys()))\n",
    "l2_arr = np.array(list(l2_results.values()))\n",
    "gradient, intercept = np.polyfit(np.log(h_arr), np.log(l2_arr), 1)\n",
    "lobf = np.exp(intercept) * h_arr ** gradient\n",
    "\n",
    "y_label = '||e||_{\\ell_2}'\n",
    "title = f'${y_label}={np.exp(intercept):.3f}h^{{{gradient:.3f}}}$'\n",
    "fig, ax = plot_line(\n",
    "    (h_arr, l2_arr), \n",
    "    x_label='$h$', \n",
    "    y_label=f'${y_label}$', \n",
    "    marker='o',\n",
    "    linestyle='',\n",
    "    title=title,\n",
    ")\n",
    "ax.plot(h_arr, lobf, color='black', linestyle='solid', linewidth=0.75)\n",
    "ax.set_xscale('log')\n",
    "ax.set_yscale('log')"
   ]
  }
 ],
 "metadata": {
  "kernelspec": {
   "display_name": "lucifex",
   "language": "python",
   "name": "python3"
  },
  "language_info": {
   "codemirror_mode": {
    "name": "ipython",
    "version": 3
   },
   "file_extension": ".py",
   "mimetype": "text/x-python",
   "name": "python",
   "nbconvert_exporter": "python",
   "pygments_lexer": "ipython3",
   "version": "3.10.12"
  }
 },
 "nbformat": 4,
 "nbformat_minor": 5
}
