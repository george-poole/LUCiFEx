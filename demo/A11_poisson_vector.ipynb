{
 "cells": [
  {
   "cell_type": "markdown",
   "id": "5f820df4",
   "metadata": {},
   "source": [
    "$\\textbf{x}\\in\\Omega$\n",
    "\n",
    "$$\\nabla^2\\textbf{u} = \\textbf{f}(\\textbf{x})$$\n",
    "\n",
    "$\\textbf{x}\\in\\partial\\Omega_{\\text{D}}$ Dirichlet boundary condition\n",
    "\n",
    "$$\\textbf{u} = \\textbf{u}_{\\text{D}}$$\n",
    "\n",
    "$\\textbf{x}\\in\\partial\\Omega_{\\text{N}}=\\partial\\Omega/\\partial\\Omega_{\\text{D}}$ Neumann condition\n",
    "\n",
    "$$\\textbf{n}\\cdot\\nabla\\textbf{u} = \\textbf{u}_{\\text{N}}$$\n",
    "\n",
    "variational formulation\n",
    "\n",
    "$$-\\int_\\Omega\\text{d}\\Omega~\\nabla\\textbf{v}\\cdot\\nabla\\textbf{u} + \\textbf{v}\\cdot\\textbf{f} + \\int_{\\partial\\Omega}\\text{d}\\Gamma~\\textbf{v}\\cdot(\\textbf{n}\\cdot\\nabla\\textbf{u})=0$$\n",
    "\n"
   ]
  },
  {
   "cell_type": "code",
   "execution_count": null,
   "id": "901c9f54",
   "metadata": {},
   "outputs": [],
   "source": [
    "from ufl.core.expr import Expr\n",
    "from ufl import Form, inner, grad, nabla_grad, dx, TestFunction, TrialFunction\n",
    "from dolfinx.fem import FunctionSpace\n",
    "\n",
    "from lucifex.mesh import rectangle_mesh, mesh_boundary\n",
    "from lucifex.fem import LUCiFExFunction as Function, LUCiFExConstant as Constant\n",
    "from lucifex.solver import bvp_solver, BoundaryConditions\n",
    "from lucifex.viz import plot_colormap, plot_line\n",
    "from lucifex.utils import cross_section, fem_function_components\n",
    "\n",
    "\n",
    "def poisson_vector(\n",
    "    u: Function,\n",
    "    f: Function | Constant | Expr,\n",
    ") -> tuple[Form, Form]:\n",
    "    v = TestFunction(u.function_space)\n",
    "    u_trial = TrialFunction(u.function_space)\n",
    "    F_lhs = -inner(grad(v), grad(u_trial)) * dx\n",
    "    F_rhs = -inner(v, f) * dx\n",
    "    return F_lhs, F_rhs"
   ]
  },
  {
   "cell_type": "markdown",
   "id": "bfd5d891",
   "metadata": {},
   "source": [
    "### $d=2~,~\\textbf{u}\\in\\mathbb{R}^2$\n",
    "\n",
    "$$\\Omega = [0, L_x] \\times [0, L_y]$$\n",
    "\n",
    "$$\\textbf{f}(x,y)=(-y, x)$$\n",
    "\n",
    "$$\\textbf{u}(x=0,y)=(0, 0)$$\n",
    "\n",
    "$$\\textbf{u}(x=L_x,y)=(1, -1)$$\n",
    "\n",
    "$$\\textbf{u}(x,y=0)=(x, 1)$$\n",
    "\n",
    "$$\\textbf{u}(x,y=L_y)=(1, 2)$$"
   ]
  },
  {
   "cell_type": "code",
   "execution_count": null,
   "id": "f065c289",
   "metadata": {},
   "outputs": [],
   "source": [
    "Lx = 2.0\n",
    "Ly = 1.0\n",
    "mesh = rectangle_mesh(Lx, Ly, 20, 10)\n",
    "boundary = mesh_boundary(\n",
    "    mesh, \n",
    "    {\n",
    "        \"left\": lambda x: x[0],\n",
    "        \"right\": lambda x: x[0] - Lx,\n",
    "        \"lower\": lambda x: x[1],\n",
    "        \"upper\": lambda x: x[1] - Ly,\n",
    "    },\n",
    ")\n",
    "fs = FunctionSpace(mesh, ('P', 1, 2))\n",
    "f = Function(fs, lambda x: (-x[1], x[0]), name='f')\n",
    "\n",
    "bcs = BoundaryConditions(\n",
    "    ('dirichlet', boundary['left'], (0.0, 0.0)),\n",
    "    ('dirichlet', boundary['right'], Constant(mesh, (1.0, -1.0))),\n",
    "    ('dirichlet', boundary['lower'], (lambda x: x[0], 1.0), 1),\n",
    "    ('dirichlet', boundary['upper'], 1.0, 0),\n",
    "    ('dirichlet', boundary['upper'], 2.0, 1),\n",
    ")\n",
    "\n",
    "u = Function(fs, name='u')\n",
    "u_solver = bvp_solver(poisson_vector, bcs)(u, f)\n",
    "u_solver.solve()\n",
    "\n",
    "ux, uy = fem_function_components(('P', 1), u, names=('ux', 'uy'))"
   ]
  },
  {
   "cell_type": "code",
   "execution_count": null,
   "id": "221963a2",
   "metadata": {},
   "outputs": [],
   "source": [
    "x_axis, ux_x, y_value = cross_section(ux, 'y', 0.5)\n",
    "plot_line((x_axis, ux_x), x_label='$x$', y_label=f'{u.name}_x(y={y_value:.2f})')\n",
    "\n",
    "y_axis, ux_y, x_value = cross_section(ux, 'x', 0.5)\n",
    "plot_line((y_axis, ux_y), x_label='$y$', y_label=f'{u.name}_x(x={y_value:.2f})')"
   ]
  },
  {
   "cell_type": "code",
   "execution_count": null,
   "id": "3b968cae",
   "metadata": {},
   "outputs": [],
   "source": [
    "x_axis, uy_x, y_value = cross_section(uy, 'y', 0.5)\n",
    "plot_line((x_axis, uy_x), x_label='$x$', y_label=f'{u.name}_y(y={y_value:.2f})')\n",
    "\n",
    "y_axis, uy_y, x_value = cross_section(uy, 'x', 0.5)\n",
    "plot_line((y_axis, uy_x), x_label='$y$', y_label=f'{u.name}_y(x={y_value:.2f})')"
   ]
  }
 ],
 "metadata": {
  "kernelspec": {
   "display_name": "lucifex",
   "language": "python",
   "name": "python3"
  },
  "language_info": {
   "name": "python",
   "version": "3.10.12"
  }
 },
 "nbformat": 4,
 "nbformat_minor": 5
}
