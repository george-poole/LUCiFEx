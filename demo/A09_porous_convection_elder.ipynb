{
 "cells": [
  {
   "cell_type": "markdown",
   "id": "7d2b6dcd",
   "metadata": {},
   "source": [
    "## $d=2$ Elder convection example"
   ]
  },
  {
   "cell_type": "markdown",
   "id": "fbdb3c67",
   "metadata": {},
   "source": [
    "$$\\Omega = [0, L_x] \\times [0, L_y]$$\n",
    "\n",
    "$$c(x,y,t=0)=1-y+\\mathcal{N}(x,y)$$\n",
    "\n",
    "$$c(x,y=0)=0$$\n",
    "\n",
    "$$c(x,y=L_y)=\\begin{cases}\n",
    "1 & x<\\frac{L_x}{2} \\\\\n",
    "0 & \\text{otherwise}\n",
    "\\end{cases}$$\n",
    "\n",
    "$$\\frac{\\partial c}{\\partial x}\\bigg\\vert_{x=0,y}=\\frac{\\partial c}{\\partial x}\\bigg\\vert_{x=L_x,y}=0$$\n",
    "\n",
    "$$\\psi\\vert_{\\partial\\Omega}=0$$\n",
    "\n",
    "$$\\textbf{e}_g=-\\textbf{e}_y \\implies e_g^x=0~,~e_g^y=-1$$\n",
    "\n",
    "$$\n",
    "\\begin{align*}\n",
    "\\phi &= 1 \\\\\n",
    "\\mathsf{D} &= \\mathsf{I} \\\\ \n",
    "\\mathsf{K} &= \\mathsf{I}\\\\ \n",
    "\\mu &= 1 \\\\\n",
    "\\rho(c) &= c\n",
    "\\end{align*}\n",
    "$$"
   ]
  },
  {
   "cell_type": "code",
   "execution_count": null,
   "id": "7dbc91e9",
   "metadata": {},
   "outputs": [],
   "source": [
    "from lucifex.fdm import FiniteDifference, AB2, CN, ConstantSeries\n",
    "from lucifex.solver import BoundaryConditions, OptionsPETSc, dS_solver\n",
    "from lucifex.sim import Simulation, integrate\n",
    "from lucifex.utils import CellType, Perturbation, cubic_noise\n",
    "from lucifex.viz import plot_colormap\n",
    "from lucifex.io import write\n",
    "\n",
    "from py.porous_convection import abstract_porous_convection\n",
    "\n",
    "def elder_convection():\n",
    "    return abstract_porous_convection()"
   ]
  }
 ],
 "metadata": {
  "kernelspec": {
   "display_name": "lucifex",
   "language": "python",
   "name": "python3"
  },
  "language_info": {
   "name": "python",
   "version": "3.10.12"
  }
 },
 "nbformat": 4,
 "nbformat_minor": 5
}
