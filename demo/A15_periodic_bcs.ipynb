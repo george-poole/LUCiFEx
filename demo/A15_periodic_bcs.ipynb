{
 "cells": [
  {
   "cell_type": "markdown",
   "id": "6b9d15ac",
   "metadata": {},
   "source": [
    "$\\textbf{x}\\in\\Omega$\n",
    "\n",
    "$$\\nabla^2 u = f(\\textbf{x})$$\n",
    "\n",
    "$\\textbf{x}\\in\\partial\\Omega_{\\text{D}}$ Dirichlet boundary condition\n",
    "\n",
    "$$u = u_{\\text{D}}$$\n",
    "\n",
    "$\\textbf{x}\\in\\partial\\Omega_{\\text{M}}\\cup\\in\\partial\\Omega_{\\text{S}}$ periodic boundary condition\n",
    "\n",
    "$$u\\vert_{\\partial\\Omega_{\\text{M}}} = u\\vert_{\\partial\\Omega_{\\text{S}}}$$"
   ]
  },
  {
   "cell_type": "code",
   "execution_count": null,
   "id": "65788c05",
   "metadata": {},
   "outputs": [],
   "source": []
  }
 ],
 "metadata": {
  "kernelspec": {
   "display_name": "lucifex",
   "language": "python",
   "name": "python3"
  },
  "language_info": {
   "name": "python",
   "version": "3.10.12"
  }
 },
 "nbformat": 4,
 "nbformat_minor": 5
}
