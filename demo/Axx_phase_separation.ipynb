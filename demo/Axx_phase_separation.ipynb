{
 "cells": [
  {
   "cell_type": "markdown",
   "id": "03c381a6",
   "metadata": {},
   "source": [
    "Swift–Hohenberg equation"
   ]
  },
  {
   "cell_type": "markdown",
   "id": "a858ef5b",
   "metadata": {},
   "source": [
    "Cahn-Hilliard equation"
   ]
  }
 ],
 "metadata": {
  "kernelspec": {
   "display_name": "lucifex",
   "language": "python",
   "name": "python3"
  },
  "language_info": {
   "name": "python",
   "version": "3.10.12"
  }
 },
 "nbformat": 4,
 "nbformat_minor": 5
}
