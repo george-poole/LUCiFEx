{
 "cells": [
  {
   "cell_type": "markdown",
   "id": "8e57d75b",
   "metadata": {},
   "source": [
    "## Command line interface"
   ]
  }
 ],
 "metadata": {
  "language_info": {
   "name": "python"
  }
 },
 "nbformat": 4,
 "nbformat_minor": 5
}
