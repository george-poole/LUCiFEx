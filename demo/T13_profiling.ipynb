{
 "cells": [
  {
   "cell_type": "code",
   "execution_count": null,
   "id": "8da70db1",
   "metadata": {},
   "outputs": [],
   "source": [
    "from lucifex.utils import log_texec\n",
    "from lucifex.viz import plot_bar"
   ]
  }
 ],
 "metadata": {
  "language_info": {
   "name": "python"
  }
 },
 "nbformat": 4,
 "nbformat_minor": 5
}
