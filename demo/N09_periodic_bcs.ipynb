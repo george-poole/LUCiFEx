{
 "cells": [
  {
   "cell_type": "markdown",
   "id": "f28dfb19",
   "metadata": {},
   "source": [
    "# Periodic boundary conditions"
   ]
  },
  {
   "cell_type": "markdown",
   "id": "6b9d15ac",
   "metadata": {},
   "source": [
    "boundary value problem on $\\textbf{x}\\in\\Omega$\n",
    "\n",
    "$$\\nabla^2 u + u = f(\\textbf{x})$$\n",
    "\n",
    "Neumann boundary condition on $\\textbf{x}\\in\\partial\\Omega_{\\text{D}}$\n",
    "\n",
    "$$u = u_{\\text{D}}$$\n",
    "\n",
    "Neumann boundary condition on $\\textbf{x}\\in\\partial\\Omega_{\\text{N}}$ \n",
    "\n",
    "$$\\textbf{n}\\cdot\\nabla u = u_{\\text{N}}$$\n",
    "\n",
    "periodic boundary condition on $\\textbf{x}\\in\\partial\\Omega_{\\text{M}}\\cup\\in\\partial\\Omega_{\\text{S}}$\n",
    "\n",
    "$$u\\vert_{\\partial\\Omega_{\\text{M}}} = u\\vert_{\\partial\\Omega_{\\text{S}}}$$"
   ]
  },
  {
   "cell_type": "code",
   "execution_count": null,
   "id": "0fcf9435",
   "metadata": {},
   "outputs": [],
   "source": [
    "from ufl.core.expr import Expr\n",
    "from ufl import Form, inner, grad, dx, TestFunction, TrialFunction\n",
    "from dolfinx.fem import FunctionSpace\n",
    "\n",
    "from lucifex.mesh import rectangle_mesh, mesh_boundary\n",
    "from lucifex.fem import LUCiFExFunction as Function, LUCiFExConstant as Constant\n",
    "from lucifex.solver import bvp_solver, BoundaryConditions\n",
    "from lucifex.viz import plot_colormap, plot_line\n",
    "from lucifex.utils import cross_section\n",
    "\n",
    "\n",
    "def forced_helmholtz(\n",
    "    u: Function,\n",
    "    f: Function | Constant | Expr,\n",
    ") -> tuple[Form, Form]:\n",
    "    v = TestFunction(u.function_space)\n",
    "    u_trial = TrialFunction(u.function_space)\n",
    "    F_lhs = -inner(grad(v), grad(u_trial)) * dx\n",
    "    F_lhs += v * u * dx\n",
    "    F_rhs = -v * f * dx\n",
    "    return F_lhs, F_rhs"
   ]
  },
  {
   "cell_type": "markdown",
   "id": "65788c05",
   "metadata": {},
   "source": [
    "### $d=2~,~\\partial\\Omega_{\\text{D}}\\cup\\partial\\Omega_{\\text{N}}\\neq\\varnothing$\n",
    "\n",
    "$$\\Omega = [0, L_x] \\times [0, L_y]$$\n",
    "\n",
    "$$c(x=0,y)=c(x=L_x,y)$$\n",
    "\n",
    "$$c(x,y=0)=0$$\n",
    "\n",
    "$$\\frac{\\partial c}{\\partial x}\\bigg\\vert_{x,y=L_y}=0$$"
   ]
  },
  {
   "cell_type": "code",
   "execution_count": null,
   "id": "0f80bd93",
   "metadata": {},
   "outputs": [],
   "source": [
    "Lx = 2.0\n",
    "Ly = 1.0\n",
    "mesh = rectangle_mesh(Lx, Ly, 20, 10)\n",
    "boundary = mesh_boundary(\n",
    "    mesh, \n",
    "    {\n",
    "        \"left\": lambda x: x[0],\n",
    "        \"right\": lambda x: x[0] - Lx,\n",
    "        \"lower\": lambda x: x[1],\n",
    "        \"upper\": lambda x: x[1] - Ly,\n",
    "    },\n",
    ")\n",
    "\n",
    "bcs = BoundaryConditions(\n",
    "    (\"dirichlet\", boundary['lower'], 0.0),\n",
    "    (\"neumann\", boundary['upper'], 0.0), \n",
    "    ('periodic', boundary['left'], boundary['right']) ,\n",
    ")"
   ]
  },
  {
   "cell_type": "markdown",
   "id": "f298639b",
   "metadata": {},
   "source": [
    "### $d=2~,~\\partial\\Omega_{\\text{D}}\\cup\\partial\\Omega_{\\text{N}}=\\varnothing$\n",
    "\n",
    "$$\\Omega = [0, L_x] \\times [0, L_y]$$\n",
    "\n",
    "$$c(x=0,y)=c(x=L_x,y)$$\n",
    "\n",
    "$$c(x,y=0)=c(x,y=L_y)$$"
   ]
  },
  {
   "cell_type": "code",
   "execution_count": null,
   "id": "f35580d6",
   "metadata": {},
   "outputs": [],
   "source": [
    "bcs = BoundaryConditions(\n",
    "    ('periodic', boundary['lower'], boundary['upper']),\n",
    "    ('periodic', boundary['left'], boundary['right']),\n",
    ")"
   ]
  }
 ],
 "metadata": {
  "kernelspec": {
   "display_name": "lucifex",
   "language": "python",
   "name": "python3"
  },
  "language_info": {
   "name": "python",
   "version": "3.10.12"
  }
 },
 "nbformat": 4,
 "nbformat_minor": 5
}
