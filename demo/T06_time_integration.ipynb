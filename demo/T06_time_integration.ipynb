{
 "cells": [
  {
   "cell_type": "code",
   "execution_count": null,
   "id": "c1227189",
   "metadata": {},
   "outputs": [],
   "source": [
    "from lucifex.sim import (\n",
    "    integrate, create_stopper, create_writer, \n",
    ")"
   ]
  },
  {
   "cell_type": "markdown",
   "id": "9b8d3cbb",
   "metadata": {},
   "source": [
    "## Stopping criteria"
   ]
  },
  {
   "cell_type": "markdown",
   "id": "4aba2c86",
   "metadata": {},
   "source": [
    "## Writing criteria"
   ]
  }
 ],
 "metadata": {
  "kernelspec": {
   "display_name": "lucifex",
   "language": "python",
   "name": "python3"
  },
  "language_info": {
   "codemirror_mode": {
    "name": "ipython",
    "version": 3
   },
   "file_extension": ".py",
   "mimetype": "text/x-python",
   "name": "python",
   "nbconvert_exporter": "python",
   "pygments_lexer": "ipython3",
   "version": "3.10.12"
  }
 },
 "nbformat": 4,
 "nbformat_minor": 5
}
