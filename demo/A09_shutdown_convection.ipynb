{
 "cells": [
  {
   "cell_type": "markdown",
   "id": "d80bebbe",
   "metadata": {},
   "source": [
    "$$\\mathsf{K}=\\begin{pmatrix}\n",
    ". & . \\\\\n",
    ". & .\n",
    "\\end{pmatrix}$$"
   ]
  }
 ],
 "metadata": {
  "language_info": {
   "name": "python"
  }
 },
 "nbformat": 4,
 "nbformat_minor": 5
}
