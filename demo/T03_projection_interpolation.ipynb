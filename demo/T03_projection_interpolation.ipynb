{
 "cells": [
  {
   "cell_type": "markdown",
   "id": "f56be472",
   "metadata": {},
   "source": [
    "$\\textbf{x}\\in\\Omega$\n",
    "\n",
    "$$u = f(a, b)$$\n",
    "\n",
    "$$\\int_\\Omega\\text{d}\Omega~vu -vf=0$$"
   ]
  },
  {
   "cell_type": "markdown",
   "id": "7c7cb029",
   "metadata": {},
   "source": [
    "$$\\Omega = [0, L_x] \\times [0, L_y]$$\n",
    "\n",
    "$$f(a, b) = a + b$$"
   ]
  },
  {
   "cell_type": "code",
   "execution_count": null,
   "id": "1ca4d09a",
   "metadata": {},
   "outputs": [
    {
     "name": "stdout",
     "output_type": "stream",
     "text": [
      "Expecting uP ~= 3.0\n",
      "True\n",
      "Expecting uI ~= 3.0\n",
      "True\n",
      "Mutating a...\n",
      "Now expecting uP ~= 4.0\n",
      "True\n",
      "Now expecting uI ~= 4.0\n",
      "True\n"
     ]
    }
   ],
   "source": [
    "import numpy as np\n",
    "from ufl.core.expr import Expr\n",
    "from dolfinx.fem import FunctionSpace\n",
    "\n",
    "from lucifex.mesh import rectangle_mesh\n",
    "from lucifex.fem import LUCiFExFunction as Function, LUCiFExConstant as Constant\n",
    "from lucifex.solver import projection_solver, interpolation_solver\n",
    "\n",
    "def rhs(\n",
    "    a: Function | Constant | Expr,\n",
    "    b: Function | Constant | Expr,\n",
    ") -> Expr:\n",
    "    f = a + b \n",
    "    return f\n",
    "\n",
    "Lx = 2.0\n",
    "Ly = 1.0\n",
    "mesh = rectangle_mesh(Lx, Ly, 20, 10)\n",
    "\n",
    "a = Constant(mesh, 1.0, name='a')\n",
    "b = Constant(mesh, 2.0, name='b')\n",
    "\n",
    "fs = FunctionSpace(mesh, ('P', 1))\n",
    "uP = Function(fs, name='uP')\n",
    "u_projector = projection_solver(uP, rhs)(a, b)\n",
    "uI = Function(fs, name='uI')\n",
    "u_interpolator = interpolation_solver(uI, rhs)(a, b)\n",
    "\n",
    "u_projector.solve()\n",
    "u_interpolator.solve()\n",
    "expected = a.value + b.value\n",
    "print(f'Expecting {uP.name} ~= {expected}')\n",
    "print(np.all(np.isclose(uP.x.array, expected)))\n",
    "print(f'Expecting {uI.name} ~= {expected}')\n",
    "print(np.all(np.isclose(uI.x.array, expected)))\n",
    "\n",
    "print('Mutating a...')\n",
    "a.value += 1.0\n",
    "u_projector.solve(overwrite=True)\n",
    "u_interpolator.solve(overwrite=True)\n",
    "expected = a.value + b.value\n",
    "print(f'Now expecting {uP.name} ~= {expected}')\n",
    "print(np.all(np.isclose(uP.x.array, expected)))\n",
    "print(f'Now expecting {uI.name} ~= {expected}')\n",
    "print(np.all(np.isclose(uI.x.array, expected)))"
   ]
  },
  {
   "cell_type": "code",
   "execution_count": 7,
   "id": "968ae620",
   "metadata": {},
   "outputs": [
    {
     "name": "stdout",
     "output_type": "stream",
     "text": [
      "Expecting min(uP) ~= 1.0 and max(uP) ~= 3.0\n",
      "True True\n",
      "Expecting min(uI) ~= 1.0 and max(uI) ~= 3.0\n",
      "True True\n",
      "Mutating b...\n",
      "Now expecting min(uP) ~= 1.0 and max(uP) ~= 5.0\n",
      "True True\n",
      "Now expecting min(uI) ~= 1.0 and max(uI) ~= 5.0\n",
      "True True\n"
     ]
    }
   ],
   "source": [
    "a = Constant(mesh, 1.0, name='a')\n",
    "b = Function((mesh, 'P', 1), lambda x: x[0] * x[1], name='b')\n",
    "\n",
    "uP = Function(fs, name='uP')\n",
    "u_projector = projection_solver(uP, rhs)(a, b)\n",
    "uI = Function(fs, name='uI')\n",
    "u_interpolator = interpolation_solver(uI, rhs)(a, b)\n",
    "\n",
    "u_projector.solve()\n",
    "u_interpolator.solve()\n",
    "expected_min = a.value\n",
    "expected_max = a.value + Lx * Ly\n",
    "print(f'Expecting min({uP.name}) ~= {expected_min} and max({uP.name}) ~= {expected_max}')\n",
    "print(np.isclose(np.min(uP.x.array), expected_min), np.isclose(np.max(uP.x.array), expected_max))\n",
    "print(f'Expecting min({uI.name}) ~= {expected_min} and max({uI.name}) ~= {expected_max}')\n",
    "print(np.isclose(np.min(uI.x.array), expected_min), np.isclose(np.max(uI.x.array), expected_max))\n",
    "\n",
    "print('Mutating b...')\n",
    "b.interpolate(lambda x: 2 * x[0] * x[1])\n",
    "u_projector.solve(overwrite=True)\n",
    "u_interpolator.solve(overwrite=True)\n",
    "expected_min = a.value\n",
    "expected_max = a.value + 2 * Lx * Ly\n",
    "print(f'Now expecting min({uP.name}) ~= {expected_min} and max({uP.name}) ~= {expected_max}')\n",
    "print(np.isclose(np.min(uP.x.array), expected_min), np.isclose(np.max(uP.x.array), expected_max))\n",
    "print(f'Now expecting min({uI.name}) ~= {expected_min} and max({uI.name}) ~= {expected_max}')\n",
    "print(np.isclose(np.min(uI.x.array), expected_min), np.isclose(np.max(uI.x.array), expected_max))"
   ]
  }
 ],
 "metadata": {
  "kernelspec": {
   "display_name": "lucifex",
   "language": "python",
   "name": "python3"
  },
  "language_info": {
   "codemirror_mode": {
    "name": "ipython",
    "version": 3
   },
   "file_extension": ".py",
   "mimetype": "text/x-python",
   "name": "python",
   "nbconvert_exporter": "python",
   "pygments_lexer": "ipython3",
   "version": "3.10.12"
  }
 },
 "nbformat": 4,
 "nbformat_minor": 5
}
