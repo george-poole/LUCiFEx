{
 "cells": [
  {
   "cell_type": "markdown",
   "id": "a4ad0821",
   "metadata": {},
   "source": [
    "# Double-diffusive convection\n",
    "\n",
    "initial value problem on $(\\textbf{x}, t)\\in\\Omega\\times[0,\\infty)$\n",
    "\n",
    "$$\\frac{1}{Pr}\\left(\\frac{\\partial\\textbf{u}}{\\partial t}+\\textbf{u}\\cdot\\nabla\\textbf{u}\\right)=-\\nabla p + \\nabla^2\\textbf{u} + \\rho(c,\\theta)\\,\\textbf{e}_g$$\n",
    "\n",
    "$$\\frac{\\partial c}{\\partial t} + \\textbf{u}\\cdot\\nabla c = \\frac{1}{Le}\\nabla^2 c$$\n",
    "\n",
    "$$\\frac{\\partial\\theta}{\\partial t} + \\textbf{u}\\cdot\\nabla\\theta = \\nabla^2\\theta$$\n",
    "\n",
    "constitutive relation\n",
    "\n",
    "$$\\rho(c,\\theta) = Ra\\,c - Rb\\,\\theta$$\n",
    "\n",
    "initial conditions\n",
    "\n",
    "$$\\textbf{u}(\\textbf{x},t=0)=\\textbf{u}_0(\\textbf{x})$$\n",
    "\n",
    "$$p(\\textbf{x},t=0)=p_0(\\textbf{x})$$\n",
    "\n",
    "concentration Dirichlet boundary condition on $\\textbf{x}\\in\\partial\\Omega_{\\text{D},c}$\n",
    "\n",
    "$$c = c_{\\text{D}}$$\n",
    "\n",
    "concentration Neumann boundary condition on $\\textbf{x}\\in\\partial\\Omega_{\\text{N},c}=\\partial\\Omega/\\partial\\Omega_{\\text{D},c}$\n",
    "\n",
    "$$\\textbf{n}\\cdot\\nabla c = c_{\\text{N}}$$\n",
    "\n",
    "temperature Dirichlet boundary condition on $\\textbf{x}\\in\\partial\\Omega_{\\text{D}, \\theta}$\n",
    "\n",
    "$$\\theta = \\theta_{\\text{D}}$$\n",
    "\n",
    "temperature Neumann boundary condition on $\\textbf{x}\\in\\partial\\Omega_{\\text{N}, \\theta}=\\partial\\Omega/\\partial\\Omega_{\\text{D}, \\theta}$\n",
    "\n",
    "$$\\textbf{n}\\cdot\\nabla\\theta = \\theta_{\\text{N}}$$\n",
    "\n",
    "essential boundary condition on $\\textbf{x}\\in\\partial\\Omega_E$\n",
    "\n",
    "$$\\textbf{n}\\cdot\\textbf{u} = u_{\\text{E}}$$\n",
    "\n",
    "natural boundary condition on $\\textbf{x}\\in\\partial\\Omega_{\\text{N}}=\\partial\\Omega/\\partial\\Omega_{\\text{E}}$\n",
    "\n",
    "$$p = p_{\\text{N}}$$"
   ]
  },
  {
   "cell_type": "markdown",
   "id": "df351601",
   "metadata": {},
   "source": [
    "## Example: $d=2$ rectangle\n",
    "\n",
    "$$\\Omega = [0, L_x] \\times [0, L_y]$$\n",
    "\n",
    "$$c_0(x,y)=y-1+\\mathcal{N}(x,y)$$\n",
    "\n",
    "$$c(x,y=0)=0$$\n",
    "\n",
    "$$c(x,y=L_y)=1$$\n",
    "\n",
    "$$\\frac{\\partial c}{\\partial x}\\bigg\\vert_{x=0,y}=\\frac{\\partial c}{\\partial x}\\bigg\\vert_{x=L_x,y}=0$$\n",
    "\n",
    "$$\\theta(x,y)=1-y+\\mathcal{N}(x,y)$$\n",
    "\n",
    "$$\\theta(x,y=0)=1$$\n",
    "\n",
    "$$\\theta(x,y=L_y)=0$$\n",
    "\n",
    "$$\\frac{\\partial\\theta}{\\partial x}\\bigg\\vert_{x=0,y}=\\frac{\\partial\\theta}{\\partial x}\\bigg\\vert_{x=L_x,y}=0$$"
   ]
  },
  {
   "cell_type": "markdown",
   "metadata": {},
   "source": []
  },
  {
   "cell_type": "code",
   "execution_count": null,
   "id": "0cd9ae4d",
   "metadata": {},
   "outputs": [],
   "source": [
    "from"
   ]
  }
 ],
 "metadata": {
  "kernelspec": {
   "display_name": "lucifex",
   "language": "python",
   "name": "python3"
  },
  "language_info": {
   "name": "python",
   "version": "3.10.12"
  }
 },
 "nbformat": 4,
 "nbformat_minor": 5
}
