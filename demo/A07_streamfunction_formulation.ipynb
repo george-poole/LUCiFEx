{
 "cells": [
  {
   "cell_type": "markdown",
   "id": "4f9f96ed",
   "metadata": {},
   "source": [
    "# Streamfunction formulation"
   ]
  },
  {
   "cell_type": "markdown",
   "id": "c5a20027",
   "metadata": {},
   "source": [
    "$$\\textbf{u}=\\nabla\\times\\boldsymbol{\\psi} \\iff \\nabla\\cdot\\textbf{u}=0$$\n",
    "\n",
    "$d=2$ Cartesian streamfunction formulation\n",
    "\n",
    "$$\\textbf{u}=\\nabla\\times\\psi\\textbf{e}_z=-\\frac{\\partial\\psi}{\\partial y}\\textbf{e}_x + \\frac{\\partial\\psi}{\\partial x}\\textbf{e}_y$$"
   ]
  },
  {
   "cell_type": "markdown",
   "id": "61d81d3a",
   "metadata": {},
   "source": [
    "## Example: $d=2$ Stokes flow\n",
    "\n",
    "boundary value problem on $\\textbf{x}\\in\\Omega\\subset\\mathbb{R}^2$ \n",
    "\n",
    "$$\\nabla\\cdot\\textbf{u} = 0$$\n",
    "$$\\textbf{0}=-\\nabla p + \\nabla^2\\textbf{u} + \\textbf{f}$$\n",
    "\n",
    "Cartesian streamfunction formulation\n",
    "\n",
    "$$\\textbf{f}=f_x\\textbf{e}_x + f_y\\textbf{e}_y$$\n",
    "\n",
    "$$\\nabla^2(\\nabla^2\\psi) = \\frac{\\partial f_y}{\\partial x}- \\frac{\\partial f_x}{\\partial y}$$\n",
    "\n",
    "boundary conditions on $\\textbf{x}\\in\\partial\\Omega$ with unit normal $\\textbf{n}\\in\\{\\pm\\textbf{e}_x, \\pm\\textbf{e}_y\\}$ and unit tangent $\\textbf{n}\\cdot\\textbf{t}=0$\n",
    "\n",
    "$$\\textbf{n}\\cdot\\textbf{u}=0 \\iff \\psi=0$$\n",
    "\n",
    "$$\\textbf{n}\\cdot\\nabla(\\textbf{t}\\cdot\\textbf{u})=0 \\iff \\nabla^2\\psi=0$$\n",
    "\n",
    "variational formulation\n",
    "\n",
    "$$F(\\psi, v) = \\dots$$"
   ]
  },
  {
   "cell_type": "code",
   "execution_count": null,
   "id": "98f4aa50",
   "metadata": {},
   "outputs": [],
   "source": [
    "import numpy as np\n",
    "from ufl.core.expr import Expr\n",
    "from ufl import (Form, FacetNormal, CellDiameter, dx, dS,\n",
    "    TestFunction, TrialFunction,\n",
    "    inner, grad, div, avg, jump, Dx, as_matrix,\n",
    ")\n",
    "\n",
    "from lucifex.mesh import rectangle_mesh, mesh_boundary\n",
    "from lucifex.fem import LUCiFExFunction as Function, LUCiFExConstant as Constant\n",
    "from lucifex.solver import bvp_solver, interpolation_solver, BoundaryConditions\n",
    "from lucifex.utils import cross_section, fem_function_components\n",
    "from lucifex.viz import plot_colormap, plot_line, plot_streamlines\n",
    "from lucifex.io import write\n",
    "\n",
    "\n",
    "def streamfunction_velocity(psi: Function) -> Expr:\n",
    "    return as_matrix([[0, 1], [-1, 0]]) * grad(psi)\n",
    "\n",
    "\n",
    "def stokes_streamfunction(\n",
    "    psi: Function,\n",
    "    alpha: Constant,\n",
    "    fx: Function | None = None,\n",
    "    fy: Function | None = None,\n",
    ") -> list[Form]:\n",
    "    v = TestFunction(psi.function_space)\n",
    "    psi_trial = TrialFunction(psi.function_space)\n",
    "    n = FacetNormal(psi.function_space.mesh)\n",
    "    h = CellDiameter(psi.function_space.mesh)\n",
    "\n",
    "    F_dx = div(grad(v)) * div(grad(psi_trial)) * dx\n",
    "\n",
    "    F_dS = (alpha / avg(h)) * inner(jump(grad(v), n), jump(grad(psi_trial), n)) * dS\n",
    "    F_dS -= inner(jump(grad(v), n), avg(div(grad(psi_trial)))) * dS\n",
    "    F_dS -= inner(avg(div(grad(v))), jump(grad(psi_trial), n)) * dS\n",
    "\n",
    "    forms = [F_dx, F_dS]\n",
    "\n",
    "    if fx is not None:\n",
    "        F_fx = v * Dx(fx, 1) * dx\n",
    "        forms.append(F_fx)\n",
    "    if fy is not None:\n",
    "        F_fy = -v * Dx(fy, 0) * dx\n",
    "        forms.append(F_fy)\n",
    "\n",
    "    return forms"
   ]
  },
  {
   "cell_type": "markdown",
   "id": "59190362",
   "metadata": {},
   "source": [
    "$$f_x = 5y\\sin(6\\pi x/L_x)$$\n",
    "\n",
    "$$f_y = 0$$"
   ]
  },
  {
   "cell_type": "code",
   "execution_count": null,
   "id": "5875d5e8",
   "metadata": {},
   "outputs": [],
   "source": [
    "Lx = 2.0\n",
    "Ly = 1.0\n",
    "mesh = rectangle_mesh(Lx, Ly, 200, 200, cell='quadrilateral')\n",
    "boundary = mesh_boundary(\n",
    "    mesh, \n",
    "    {\n",
    "        \"left\": lambda x: x[0],\n",
    "        \"right\": lambda x: x[0] - Lx,\n",
    "        \"lower\": lambda x: x[1],\n",
    "        \"upper\": lambda x: x[1] - Ly,\n",
    "    },\n",
    ")\n",
    "\n",
    "alpha = Constant(mesh, 8.0, name='alpha')\n",
    "fx = Function(\n",
    "    (mesh, 'P', 1), \n",
    "    lambda x: 5 * x[1] * np.sin(6 * np.pi * x[0] / Lx),\n",
    "    name='fx',\n",
    ")\n",
    "fy = None\n",
    "\n",
    "bcs = BoundaryConditions(\n",
    "    ('essential', boundary.union, 0.0),\n",
    ")\n",
    "\n",
    "psi = Function((mesh, 'P', 2), name=\"psi\")\n",
    "psi_solver = bvp_solver(stokes_streamfunction, bcs)(psi, alpha, fx, fy)\n",
    "psi_solver.solve()\n",
    "\n",
    "u = Function((mesh, 'P', 1, 2), name='u')\n",
    "u_solver = interpolation_solver(u, streamfunction_velocity)(psi)\n",
    "u_solver.solve()"
   ]
  },
  {
   "cell_type": "code",
   "execution_count": null,
   "id": "a05397fd",
   "metadata": {},
   "outputs": [],
   "source": [
    "fig, ax = plot_colormap(psi, title='$\\psi$', x_label='$x$', y_label='$y$')\n",
    "write(fig, f'A07_stokes_streamfunction', './figures', close=False, pickle=False)\n",
    "\n",
    "ux, uy = fem_function_components(('P', 1), u, names=('ux', 'uy'))\n",
    "\n",
    "x_axis, ux_x, y_value = cross_section(ux, 'y', 0.5)\n",
    "plot_line((x_axis, ux_x), x_label='$y$', y_label=f'${u.name}_x(y={y_value:.2f})$')\n",
    "\n",
    "x_axis, uy_x, y_value = cross_section(uy, 'y', 0.5)\n",
    "plot_line((x_axis, uy_x), x_label='$y$', y_label=f'${u.name}_y(y={y_value:.2f})$')\n"
   ]
  }
 ],
 "metadata": {
  "kernelspec": {
   "display_name": "lucifex",
   "language": "python",
   "name": "python3"
  },
  "language_info": {
   "name": "python",
   "version": "3.10.12"
  }
 },
 "nbformat": 4,
 "nbformat_minor": 5
}
