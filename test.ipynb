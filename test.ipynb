{
 "cells": [
  {
   "cell_type": "code",
   "execution_count": 2,
   "id": "1d685283",
   "metadata": {},
   "outputs": [],
   "source": [
    "import pytest\n",
    "import os\n",
    "\n",
    "from lucifex.fem import LUCiFExFunction as Function\n",
    "from lucifex.mesh import rectangle_mesh\n",
    "from lucifex.io import write, read\n",
    "\n",
    "DIR_PATH = './'\n",
    "\n",
    "Nx, Ny = 10, 10\n",
    "elem = ('P', 1)\n",
    "\n",
    "file_name = 'test'\n",
    "u_name = f'u{elem[0]}{elem[1]}'\n",
    "mesh = rectangle_mesh(1.0, 1.0, Nx, Ny)\n",
    "u = Function((mesh, *elem), name=u_name)\n",
    "write(u, file_name, DIR_PATH, mode='a')\n",
    "# elem_io = elem if elem == ('DP', 0) else ('P', 1)\n",
    "# u_io = Function((mesh, *elem_io), name=u.name)\n",
    "# read(u_io, DIR_PATH, file_name)\n",
    "# if elem_io == ('DP', 0):\n",
    "#     assert len(u_io.x.array) == Nx * Ny\n",
    "# else:\n",
    "#     assert len(u_io.x.array) == (Nx + 1) * (Ny + 1)"
   ]
  },
  {
   "cell_type": "code",
   "execution_count": null,
   "id": "0baa2006",
   "metadata": {},
   "outputs": [],
   "source": []
  }
 ],
 "metadata": {
  "kernelspec": {
   "display_name": "lucifex",
   "language": "python",
   "name": "python3"
  },
  "language_info": {
   "codemirror_mode": {
    "name": "ipython",
    "version": 3
   },
   "file_extension": ".py",
   "mimetype": "text/x-python",
   "name": "python",
   "nbconvert_exporter": "python",
   "pygments_lexer": "ipython3",
   "version": "3.10.12"
  }
 },
 "nbformat": 4,
 "nbformat_minor": 5
}
